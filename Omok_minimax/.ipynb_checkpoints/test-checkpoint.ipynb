{
 "cells": [
  {
   "cell_type": "code",
   "execution_count": 1,
   "id": "d2842c7e-e1d7-429d-9285-9cba7aeda3b0",
   "metadata": {},
   "outputs": [],
   "source": [
    "import numpy as np\n",
    "#from ai_predict import *\n",
    "from ai_predict2 import *\n",
    "from common import *"
   ]
  },
  {
   "cell_type": "code",
   "execution_count": 2,
   "id": "7db7df93-a134-4ef4-96cb-82316ce508fc",
   "metadata": {},
   "outputs": [],
   "source": [
    "board = np.zeros((19,19), dtype=int)"
   ]
  },
  {
   "cell_type": "code",
   "execution_count": 3,
   "id": "6a65d09c-36c5-4dc6-bc93-3a19bde195cd",
   "metadata": {},
   "outputs": [
    {
     "name": "stdout",
     "output_type": "stream",
     "text": [
      "    A  B  C  D  E  F  G  H  I  J  K  L  M  N  O  P  Q  R  S\n",
      "19  0  0  0  0  0  0  0  0  0  0  0  0  0  0  0  0  0  0  0 \n",
      "18  0  1  0  1  0  1  0  1  0  1  0  1  0  1  0  1  0  1  0 \n",
      "17  0  0  0  0  0  0  0  0  0  0  0  0  0  0  0  0  0  0  0 \n",
      "16  0  1  0  1  0  1  0  1  0  1  0  1  0  1  0  1  0  1  0 \n",
      "15  0  0  0  0  0  0  0  0  0  0  0  0  0  0  0  0  0  0  0 \n",
      "14  0  1  0  1  0  1  0  1  0  1  0  1  0  1  0  1  0  1  0 \n",
      "13  0  0  0  0  0  0  0  0  0  0  0  0  0  0  0  0  0  0  0 \n",
      "12  0  1  0  1  0  1  0  1  0  1  0  1  0  1  0  1  0  1  0 \n",
      "11  0  0  0  0  0  0  0  0  0  0  0  0  0  0  0  0  0  0  0 \n",
      "10  0  1  0  1  0  1  0  1  0  1  0  1  0  1  0  1  0  1  0 \n",
      " 9  0  0  0  0  0  0  0  0  0  0  0  0  0  0  0  0  0  0  0 \n",
      " 8  0  1  0  1  0  1  0  1  0  1  0  1  0  1  0  1  0  1  0 \n",
      " 7  0  0  0  0  0  0  0  0  0  0  0  0  0  0  0  0  0  0  0 \n",
      " 6  0  1  0  1  0  1  0  1  0  1  0  1  0  1  0  1  0  1  0 \n",
      " 5  0  0  0  0  0  0  0  0  0  0  0  0  0  0  0  0  0  0  0 \n",
      " 4  0  1  0  1  0  1  0  1  0  1  0  1  0  1  0  1  0  1  0 \n",
      " 3  0  0  0  0  0  0  0  0  0  0  0  0  0  0  0  0  0  0  0 \n",
      " 2  0  1  0  1  0  1  0  1  0  1  0  1  0  1  0  1  0  1  0 \n",
      " 1  0  0  0  0  0  0  0  0  0  0  0  0  0  0  0  0  0  0  0 \n"
     ]
    }
   ],
   "source": [
    "tmp = [0,1] * 10\n",
    "tmp.pop()\n",
    "for i in range(1,19,2):\n",
    "    board[i] = np.array(tmp)\n",
    "\n",
    "print_board(board)"
   ]
  },
  {
   "cell_type": "code",
   "execution_count": 4,
   "id": "77b630dd-5fc1-4214-846a-c130b8d1afe2",
   "metadata": {},
   "outputs": [
    {
     "name": "stdout",
     "output_type": "stream",
     "text": [
      "    A  B  C  D  E  F  G  H  I  J  K  L  M  N  O  P  Q  R  S\n",
      "19  0  0  0  0  0  0  0  0  0  0  0  0  0  0  0  0  0  0  0 \n",
      "18  0  1  0  1  0  1  0  1  0  1  0  1  0  1  0  1  0  1  0 \n",
      "17  0  0  0  0  0  0  0  0  0  0  0  0  0  0  0  0  0  0  0 \n",
      "16  0  1  0  1  0  1  0  1  0  1  0  1  0  1  0  1  0  1  0 \n",
      "15  0  0  0  0  0  0  0  0  0  0  0  0  0  0  0  0  0  0  0 \n",
      "14  0  1  0  1  0  1  0  1  0  1  0  1  0  1  0  1  0  1  0 \n",
      "13  0  0  0  0  0  0  0  0  0  0  0  0  0  0  0  0  0  0  0 \n",
      "12  0  1  0  1  0  1  0  1  0  1  0  1  0  1  0  1  0  1  0 \n",
      "11  0  0  0  0  0  0  0  0  0  0  0  0  0  0  0  0  0  0  0 \n",
      "10  0  1  0  1  0  1  0  1  0  1  0  1  0  1  0  1  0  1  0 \n",
      " 9  0  0  0  0  0  0  0  0  0  0  0  0  0  0  0  0  0  0  0 \n",
      " 8  0  1  0  1  0  1  0  1  0  1  0  1  0  1  0  1  0  1  0 \n",
      " 7  0  0  0  0  1  0  0  0  0  0  0  0  0  0  0  0  0  0  0 \n",
      " 6  0  1  0  1  0  1  0  1  0  1  0  1  0  1  0  1  0  1  0 \n",
      " 5  0  0  0  0  0  0  0  0  0  0  0  0  0  0  0  0  0  0  0 \n",
      " 4  0  1  0  1  0  1  0  1  0  1  0  1  0  1  0  1  0  1  0 \n",
      " 3  0  0  0  0  0  0  0  0  0  0  0  0  0  0  0  0  0  0  0 \n",
      " 2  0  1  0  1  0  1  0  1  0  1  0  1  0  1  0  1  0  1  0 \n",
      " 1  0  0  0  0  0  0  0  0  0  0  0  0  0  0  0  0  0  0  0 \n",
      "===========================================================\n",
      "착수한 위치 : 7행 E열\n",
      "135.23668789863586\n"
     ]
    }
   ],
   "source": [
    "import time\n",
    "st = time.time()\n",
    "output_r, output_c = ai_predict(board)\n",
    "board[output_r][output_c] = 1\n",
    "print_board(board)\n",
    "print('=' * 59)\n",
    "print(f\"착수한 위치 : {19-output_r}행 {chr(output_c + 65)}열\")\n",
    "print(time.time()-st)"
   ]
  },
  {
   "cell_type": "code",
   "execution_count": 9,
   "id": "2121bb01-8b43-49cb-9028-4de028f5014e",
   "metadata": {},
   "outputs": [],
   "source": [
    "able_positions = set()\n",
    "directions = [(1, 0), (0, 1), (1, 1), (1, -1), (-1, 0), (0, -1), (-1, -1), (-1, 1)]\n",
    "\n",
    "for i in range(19):\n",
    "    for j in range(19):\n",
    "        if board[i, j] != 0:\n",
    "            for dx, dy in directions:\n",
    "                for dist in range(1, 2):\n",
    "                    nx, ny = i + dx * dist, j + dy * dist\n",
    "                    if 0 <= nx < 19 and 0 <= ny < 19 and board[nx, ny] == 0:\n",
    "                        able_positions.add((nx, ny))\n"
   ]
  },
  {
   "cell_type": "code",
   "execution_count": 14,
   "id": "dbade7f1-8ff9-4338-923f-c457f1b86f26",
   "metadata": {},
   "outputs": [],
   "source": [
    "for x,y in able_positions:\n",
    "    board[x,y] = 9"
   ]
  },
  {
   "cell_type": "code",
   "execution_count": 15,
   "id": "f38ed308-d69f-4d19-a82b-f16c30547af4",
   "metadata": {},
   "outputs": [
    {
     "name": "stdout",
     "output_type": "stream",
     "text": [
      "    A  B  C  D  E  F  G  H  I  J  K  L  M  N  O  P  Q  R  S\n",
      "19  0  0  0  0  0  0  0  0  0  0  0  0  0  0  0  0  0  0  0 \n",
      "18  0  0  0  0  0  0  0  0  0  0  0  0  0  0  0  0  0  0  0 \n",
      "17  0  0  0  0  0  0  0  0  0  0  0  0  0  0  0  0  0  0  0 \n",
      "16  0  0  0  0  0  0  0  0  0  0  0  0  0  0  0  0  0  0  0 \n",
      "15  0  0  0  0  0  0  0  0  0  0  0  0  0  0  0  0  0  0  0 \n",
      "14  0  0  0  0  0  0  0  0  0  0  0  0  0  0  0  0  0  0  0 \n",
      "13  0  0  0  0  0  0  0  0  0  0  0  0  0  0  0  0  0  0  0 \n",
      "12  0  0  0  0  0  0  0  0  0  0  0  0  0  0  0  0  0  0  0 \n",
      "11  0  0  0  0  0  0  0  0  0  0  0  0  0  0  0  0  0  0  0 \n",
      "10  0  0  0  0  0  0  0  0  0  9  9  9  0  0  0  0  0  0  0 \n",
      " 9  0  0  0  0  0  0  0  0  0  9  1  9  0  0  0  0  0  0  0 \n",
      " 8  0  0  0  0  0  0  0  0  0  9  9  9  0  0  0  0  0  0  0 \n",
      " 7  0  0  0  0  0  0  0  0  0  0  0  0  0  0  0  0  0  0  0 \n",
      " 6  0  0  0  0  0  0  0  0  0  0  0  0  0  0  0  0  0  0  0 \n",
      " 5  0  0  0  0  0  0  0  0  0  0  0  0  0  0  0  0  0  0  0 \n",
      " 4  0  0  0  0  0  0  0  0  0  0  0  0  0  0  0  0  0  0  0 \n",
      " 3  0  0  0  0  0  0  0  0  0  0  0  0  0  0  0  0  0  0  0 \n",
      " 2  0  0  0  0  0  0  0  0  0  0  0  0  0  0  0  0  0  0  0 \n",
      " 1  0  0  0  0  0  0  0  0  0  0  0  0  0  0  0  0  0  0  0 \n"
     ]
    }
   ],
   "source": [
    "print_board(board)"
   ]
  },
  {
   "cell_type": "code",
   "execution_count": null,
   "id": "be5cfaf4-a2ad-4953-8ce1-a7055ffb2eb3",
   "metadata": {},
   "outputs": [],
   "source": []
  }
 ],
 "metadata": {
  "kernelspec": {
   "display_name": "Python 3 (ipykernel)",
   "language": "python",
   "name": "python3"
  },
  "language_info": {
   "codemirror_mode": {
    "name": "ipython",
    "version": 3
   },
   "file_extension": ".py",
   "mimetype": "text/x-python",
   "name": "python",
   "nbconvert_exporter": "python",
   "pygments_lexer": "ipython3",
   "version": "3.8.19"
  }
 },
 "nbformat": 4,
 "nbformat_minor": 5
}
