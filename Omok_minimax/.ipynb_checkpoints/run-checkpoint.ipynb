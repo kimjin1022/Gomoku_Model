{
 "cells": [
  {
   "cell_type": "code",
   "execution_count": null,
   "id": "initial_id",
   "metadata": {
    "ExecuteTime": {
     "end_time": "2024-06-07T07:47:46.893143Z",
     "start_time": "2024-06-07T07:47:46.890591Z"
    }
   },
   "outputs": [],
   "source": [
    "import numpy as np\n",
    "from ai_predict2 import *\n",
    "from common import *\n",
    "import copy"
   ]
  },
  {
   "cell_type": "code",
   "execution_count": null,
   "id": "3c8f1f75-dc18-4773-b3f2-90f4253584cb",
   "metadata": {
    "ExecuteTime": {
     "end_time": "2024-06-07T07:48:01.796559Z",
     "start_time": "2024-06-07T07:47:48.260Z"
    }
   },
   "outputs": [],
   "source": [
    "board = np.zeros((19, 19), dtype=np.int8)\n",
    "first_turn, location_r, location_c = list(input('선공인가요?(Y/N) 첫번째 착수 위치를 알려주세요.').split())\n",
    "print('=' * 59)\n",
    "\n",
    "if first_turn == 'Y':\n",
    "    board[19 - int(location_r), ord(location_c)-65] = 1\n",
    "    print_board(board)\n",
    "\n",
    "else:\n",
    "    board[19 - int(location_r), ord(location_c)-65] = 2\n",
    "    print_board(board)\n",
    "    print('=' * 59)\n",
    "\n",
    "while True:\n",
    "    try:\n",
    "        if first_turn != 'Y':\n",
    "            output_r, output_c = ai_predict(board)\n",
    "            board[output_r][output_c] = 1\n",
    "            print_board(board)\n",
    "            print()\n",
    "            print(f\"착수한 위치 : {19-output_r}행 {chr(output_c + 65)}열\")\n",
    "            print()\n",
    "            print('=' * 59)\n",
    "            first_turn = 'Y'\n",
    "\n",
    "        print('=' * 59)\n",
    "        location_r, location_c = list(input(\"상대방이 착수 한 곳을 입력해 주세요\").split())\n",
    "        if (location_r, location_c) == ('roll', 'back'):\n",
    "            board = tmp_board\n",
    "            print_board(board)\n",
    "            continue\n",
    "        tmp_board = copy.deepcopy(board)\n",
    "        print('=' * 59)\n",
    "        if board[19-int(location_r), ord(location_c)-65] != 0:\n",
    "            print(\"해당 위치는 이미 착수 되었습니다.\")\n",
    "            continue\n",
    "        board[19-int(location_r), ord(location_c)-65] = 2\n",
    "        if end2(board):\n",
    "            print(\"P2 WIN\")\n",
    "        \n",
    "        output_r, output_c = ai_predict(board)\n",
    "        board[output_r][output_c] = 1\n",
    "        print_board(board)\n",
    "        print('=' * 59)\n",
    "        print(f\"착수한 위치 : {19-output_r}행 {chr(output_c + 65)}열\")\n",
    "        if end1(board):\n",
    "            print('P1 WIN')\n",
    "            \n",
    "    except ValueError: print(\"error, try again\")\n",
    "    except IndexError: print(\"error, try again\")"
   ]
  },
  {
   "cell_type": "code",
   "execution_count": null,
   "id": "f09ea7a8-2b52-4adf-920b-537d969f1704",
   "metadata": {},
   "outputs": [],
   "source": []
  }
 ],
 "metadata": {
  "kernelspec": {
   "display_name": "Python 3 (ipykernel)",
   "language": "python",
   "name": "python3"
  },
  "language_info": {
   "codemirror_mode": {
    "name": "ipython",
    "version": 3
   },
   "file_extension": ".py",
   "mimetype": "text/x-python",
   "name": "python",
   "nbconvert_exporter": "python",
   "pygments_lexer": "ipython3",
   "version": "3.11.7"
  }
 },
 "nbformat": 4,
 "nbformat_minor": 5
}
