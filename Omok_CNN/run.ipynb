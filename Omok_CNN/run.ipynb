{
 "cells": [
  {
   "cell_type": "code",
   "execution_count": 1,
   "id": "c2e4bfdf-75b3-4c21-ab15-3eaf11992cd7",
   "metadata": {
    "scrolled": true
   },
   "outputs": [
    {
     "name": "stderr",
     "output_type": "stream",
     "text": [
      "2024-06-08 02:03:36.118516: I tensorflow/core/platform/cpu_feature_guard.cc:193] This TensorFlow binary is optimized with oneAPI Deep Neural Network Library (oneDNN) to use the following CPU instructions in performance-critical operations:  SSE4.1 SSE4.2 AVX AVX2 AVX512F AVX512_VNNI FMA\n",
      "To enable them in other operations, rebuild TensorFlow with the appropriate compiler flags.\n",
      "2024-06-08 02:03:36.229400: I tensorflow/core/util/port.cc:104] oneDNN custom operations are on. You may see slightly different numerical results due to floating-point round-off errors from different computation orders. To turn them off, set the environment variable `TF_ENABLE_ONEDNN_OPTS=0`.\n"
     ]
    }
   ],
   "source": [
    "import numpy as np\n",
    "from tensorflow.keras.models import load_model\n",
    "import tensorflow as tf\n",
    "import os\n",
    "os.environ['TF_CPP_MIN_LOG_LEVEL'] = '2'"
   ]
  },
  {
   "cell_type": "code",
   "execution_count": 8,
   "id": "57488bb0-652d-4359-a30d-0c326c69120e",
   "metadata": {},
   "outputs": [],
   "source": [
    "def end1(board):\n",
    "    # 보드의 가로, 세로, 대각선을 모두 확인하여 종료 조건을 확인\n",
    "    for i in range(19):\n",
    "        for j in range(19):\n",
    "            # 가로 확인\n",
    "            if j + 5 <= 19:\n",
    "                if np.all(board[i, j:j+5] == 1):\n",
    "                    print('END')\n",
    "                    return True\n",
    "            # 세로 확인\n",
    "            if i + 5 <= 19:\n",
    "                if np.all(board[i:i+5, j] == 1):\n",
    "                    print('END')\n",
    "                    return True\n",
    "            # 대각선 확인 (오른쪽 아래 방향)\n",
    "            if i + 5 <= 19 and j + 5 <= 19:\n",
    "                if np.all(np.diag(board[i:i+5, j:j+5]) == 1):\n",
    "                    print('END')\n",
    "                    return True\n",
    "            # 대각선 확인 (왼쪽 아래 방향)\n",
    "            if i + 5 <= 19 and j - 5 >= -1:\n",
    "                if np.all(np.diag(np.fliplr(board[i:i+5, j-4:j+1])) == 1):\n",
    "                    print('END')\n",
    "                    return True\n",
    "    return False\n",
    "\n",
    "def end2(board):\n",
    "    # 보드의 가로, 세로, 대각선을 모두 확인하여 종료 조건을 확인\n",
    "    for i in range(19):\n",
    "        for j in range(19):\n",
    "            # 가로 확인\n",
    "            if j + 5 <= 19:\n",
    "                if np.all(board[i, j:j+5] == -1):\n",
    "                    print('END')\n",
    "                    return True\n",
    "            # 세로 확인\n",
    "            if i + 5 <= 19:\n",
    "                if np.all(board[i:i+5, j] == -1):\n",
    "                    print('END')\n",
    "                    return True\n",
    "            # 대각선 확인 (오른쪽 아래 방향)\n",
    "            if i + 5 <= 19 and j + 5 <= 19:\n",
    "                if np.all(np.diag(board[i:i+5, j:j+5]) == -1):\n",
    "                    print('END')\n",
    "                    return True\n",
    "            # 대각선 확인 (왼쪽 아래 방향)\n",
    "            if i + 5 <= 19 and j - 5 >= -1:\n",
    "                if np.all(np.diag(np.fliplr(board[i:i+5, j-4:j+1])) == -1):\n",
    "                    print('END')\n",
    "                    return True\n",
    "    return False\n",
    "\n",
    "\n",
    "def print_board(board):\n",
    "    return\n",
    "    for i in board:\n",
    "        print(i)"
   ]
  },
  {
   "cell_type": "code",
   "execution_count": 9,
   "id": "96530691-4f09-49d3-b08c-b5408c36162c",
   "metadata": {},
   "outputs": [
    {
     "name": "stdout",
     "output_type": "stream",
     "text": [
      "==================================================\n",
      "\n"
     ]
    },
    {
     "name": "stdin",
     "output_type": "stream",
     "text": [
      "선공인가요?(Y/N) 첫번째 착수 위치를 알려주세요. N 10 J\n"
     ]
    },
    {
     "name": "stdout",
     "output_type": "stream",
     "text": [
      "\n",
      "==================================================\n",
      "\n",
      "착수한 위치 : 8행 I열\n",
      "\n",
      "==================================================\n",
      "\n"
     ]
    },
    {
     "name": "stdin",
     "output_type": "stream",
     "text": [
      "상대방이 착수 한 곳을 입력해 주세요 10 K\n"
     ]
    },
    {
     "name": "stdout",
     "output_type": "stream",
     "text": [
      "\n",
      "==================================================\n",
      "\n",
      "내가 착수한 위치 : 10행 I열\n",
      "\n",
      "==================================================\n",
      "\n"
     ]
    },
    {
     "name": "stdin",
     "output_type": "stream",
     "text": [
      "상대방이 착수 한 곳을 입력해 주세요 9 I\n"
     ]
    },
    {
     "name": "stdout",
     "output_type": "stream",
     "text": [
      "\n",
      "==================================================\n",
      "\n",
      "내가 착수한 위치 : 11행 K열\n",
      "\n",
      "==================================================\n",
      "\n"
     ]
    },
    {
     "name": "stdin",
     "output_type": "stream",
     "text": [
      "상대방이 착수 한 곳을 입력해 주세요 8 H\n"
     ]
    },
    {
     "name": "stdout",
     "output_type": "stream",
     "text": [
      "\n",
      "==================================================\n",
      "\n",
      "내가 착수한 위치 : 9행 H열\n",
      "\n",
      "==================================================\n",
      "\n"
     ]
    },
    {
     "name": "stdin",
     "output_type": "stream",
     "text": [
      "상대방이 착수 한 곳을 입력해 주세요 7 G\n"
     ]
    },
    {
     "name": "stdout",
     "output_type": "stream",
     "text": [
      "\n",
      "==================================================\n",
      "\n",
      "내가 착수한 위치 : 6행 F열\n",
      "\n",
      "==================================================\n",
      "\n"
     ]
    },
    {
     "name": "stdin",
     "output_type": "stream",
     "text": [
      "상대방이 착수 한 곳을 입력해 주세요 11 J\n"
     ]
    },
    {
     "name": "stdout",
     "output_type": "stream",
     "text": [
      "\n",
      "==================================================\n",
      "\n",
      "내가 착수한 위치 : 7행 J열\n",
      "\n",
      "==================================================\n",
      "\n"
     ]
    },
    {
     "name": "stdin",
     "output_type": "stream",
     "text": [
      "상대방이 착수 한 곳을 입력해 주세요 10 G\n"
     ]
    },
    {
     "name": "stdout",
     "output_type": "stream",
     "text": [
      "\n",
      "==================================================\n",
      "\n",
      "내가 착수한 위치 : 6행 K열\n",
      "\n",
      "==================================================\n",
      "\n"
     ]
    },
    {
     "name": "stdin",
     "output_type": "stream",
     "text": [
      "상대방이 착수 한 곳을 입력해 주세요 5 L\n"
     ]
    },
    {
     "name": "stdout",
     "output_type": "stream",
     "text": [
      "\n",
      "==================================================\n",
      "\n",
      "내가 착수한 위치 : 9행 L열\n",
      "\n",
      "==================================================\n",
      "\n"
     ]
    },
    {
     "name": "stdin",
     "output_type": "stream",
     "text": [
      "상대방이 착수 한 곳을 입력해 주세요 10 M\n"
     ]
    },
    {
     "name": "stdout",
     "output_type": "stream",
     "text": [
      "\n",
      "==================================================\n",
      "\n",
      "내가 착수한 위치 : 13행 J열\n",
      "\n",
      "==================================================\n",
      "\n"
     ]
    },
    {
     "name": "stdin",
     "output_type": "stream",
     "text": [
      "상대방이 착수 한 곳을 입력해 주세요 10 N\n"
     ]
    },
    {
     "name": "stdout",
     "output_type": "stream",
     "text": [
      "\n",
      "==================================================\n",
      "\n",
      "내가 착수한 위치 : 10행 L열\n",
      "\n",
      "==================================================\n",
      "\n"
     ]
    },
    {
     "name": "stdin",
     "output_type": "stream",
     "text": [
      "상대방이 착수 한 곳을 입력해 주세요 9 G\n"
     ]
    },
    {
     "name": "stdout",
     "output_type": "stream",
     "text": [
      "\n",
      "==================================================\n",
      "\n",
      "내가 착수한 위치 : 11행 G열\n",
      "\n",
      "==================================================\n",
      "\n"
     ]
    },
    {
     "name": "stdin",
     "output_type": "stream",
     "text": [
      "상대방이 착수 한 곳을 입력해 주세요 8 G\n"
     ]
    },
    {
     "name": "stdout",
     "output_type": "stream",
     "text": [
      "\n",
      "==================================================\n",
      "\n",
      "내가 착수한 위치 : 6행 G열\n",
      "\n",
      "==================================================\n",
      "\n"
     ]
    },
    {
     "name": "stdin",
     "output_type": "stream",
     "text": [
      "상대방이 착수 한 곳을 입력해 주세요 6 J\n"
     ]
    },
    {
     "name": "stdout",
     "output_type": "stream",
     "text": [
      "\n",
      "==================================================\n",
      "\n",
      "내가 착수한 위치 : 7행 I열\n",
      "\n",
      "==================================================\n",
      "\n"
     ]
    },
    {
     "name": "stdin",
     "output_type": "stream",
     "text": [
      "상대방이 착수 한 곳을 입력해 주세요 8 L\n"
     ]
    },
    {
     "name": "stdout",
     "output_type": "stream",
     "text": [
      "\n",
      "==================================================\n",
      "\n",
      "내가 착수한 위치 : 9행 M열\n",
      "\n",
      "==================================================\n",
      "\n"
     ]
    },
    {
     "name": "stdin",
     "output_type": "stream",
     "text": [
      "상대방이 착수 한 곳을 입력해 주세요 12 J\n"
     ]
    },
    {
     "name": "stdout",
     "output_type": "stream",
     "text": [
      "\n",
      "==================================================\n",
      "\n",
      "내가 착수한 위치 : 9행 N열\n",
      "\n",
      "==================================================\n",
      "\n"
     ]
    },
    {
     "name": "stdin",
     "output_type": "stream",
     "text": [
      "상대방이 착수 한 곳을 입력해 주세요 9 K\n"
     ]
    },
    {
     "name": "stdout",
     "output_type": "stream",
     "text": [
      "\n",
      "==================================================\n",
      "\n",
      "내가 착수한 위치 : 11행 I열\n",
      "\n",
      "==================================================\n",
      "\n"
     ]
    },
    {
     "name": "stdin",
     "output_type": "stream",
     "text": [
      "상대방이 착수 한 곳을 입력해 주세요 7 M\n"
     ]
    },
    {
     "name": "stdout",
     "output_type": "stream",
     "text": [
      "\n",
      "==================================================\n",
      "\n",
      "내가 착수한 위치 : 6행 N열\n",
      "\n",
      "==================================================\n",
      "\n"
     ]
    },
    {
     "name": "stdin",
     "output_type": "stream",
     "text": [
      "상대방이 착수 한 곳을 입력해 주세요 8 J\n"
     ]
    },
    {
     "name": "stdout",
     "output_type": "stream",
     "text": [
      "\n",
      "==================================================\n",
      "\n",
      "내가 착수한 위치 : 9행 J열\n",
      "\n",
      "==================================================\n",
      "\n"
     ]
    },
    {
     "name": "stdin",
     "output_type": "stream",
     "text": [
      "상대방이 착수 한 곳을 입력해 주세요 6 L\n"
     ]
    },
    {
     "name": "stdout",
     "output_type": "stream",
     "text": [
      "\n",
      "==================================================\n",
      "\n",
      "내가 착수한 위치 : 7행 K열\n",
      "\n",
      "==================================================\n",
      "\n"
     ]
    },
    {
     "name": "stdin",
     "output_type": "stream",
     "text": [
      "상대방이 착수 한 곳을 입력해 주세요 7 L\n"
     ]
    },
    {
     "name": "stdout",
     "output_type": "stream",
     "text": [
      "\n",
      "==================================================\n",
      "\n",
      "내가 착수한 위치 : 4행 L열\n",
      "\n",
      "==================================================\n",
      "\n"
     ]
    },
    {
     "name": "stdin",
     "output_type": "stream",
     "text": [
      "상대방이 착수 한 곳을 입력해 주세요 8 N\n"
     ]
    },
    {
     "name": "stdout",
     "output_type": "stream",
     "text": [
      "\n",
      "==================================================\n",
      "\n",
      "내가 착수한 위치 : 9행 O열\n",
      "\n",
      "==================================================\n",
      "\n"
     ]
    },
    {
     "name": "stdin",
     "output_type": "stream",
     "text": [
      "상대방이 착수 한 곳을 입력해 주세요 9 P\n"
     ]
    },
    {
     "name": "stdout",
     "output_type": "stream",
     "text": [
      "\n",
      "==================================================\n",
      "\n",
      "내가 착수한 위치 : 7행 H열\n",
      "\n",
      "==================================================\n",
      "\n"
     ]
    },
    {
     "name": "stdin",
     "output_type": "stream",
     "text": [
      "상대방이 착수 한 곳을 입력해 주세요 5 F\n"
     ]
    },
    {
     "name": "stdout",
     "output_type": "stream",
     "text": [
      "\n",
      "==================================================\n",
      "\n",
      "내가 착수한 위치 : 5행 K열\n",
      "\n",
      "==================================================\n",
      "\n"
     ]
    },
    {
     "name": "stdin",
     "output_type": "stream",
     "text": [
      "상대방이 착수 한 곳을 입력해 주세요 4 K\n"
     ]
    },
    {
     "name": "stdout",
     "output_type": "stream",
     "text": [
      "\n",
      "==================================================\n",
      "\n",
      "내가 착수한 위치 : 5행 M열\n",
      "\n",
      "==================================================\n",
      "\n"
     ]
    },
    {
     "name": "stdin",
     "output_type": "stream",
     "text": [
      "상대방이 착수 한 곳을 입력해 주세요 7 O\n"
     ]
    },
    {
     "name": "stdout",
     "output_type": "stream",
     "text": [
      "\n",
      "==================================================\n",
      "\n",
      "내가 착수한 위치 : 7행 N열\n",
      "\n",
      "==================================================\n",
      "\n"
     ]
    },
    {
     "name": "stdin",
     "output_type": "stream",
     "text": [
      "상대방이 착수 한 곳을 입력해 주세요 8 M\n"
     ]
    },
    {
     "name": "stdout",
     "output_type": "stream",
     "text": [
      "\n",
      "==================================================\n",
      "\n",
      "내가 착수한 위치 : 8행 K열\n",
      "\n",
      "==================================================\n",
      "\n"
     ]
    },
    {
     "name": "stdin",
     "output_type": "stream",
     "text": [
      "상대방이 착수 한 곳을 입력해 주세요 8 P\n"
     ]
    },
    {
     "name": "stdout",
     "output_type": "stream",
     "text": [
      "\n",
      "==================================================\n",
      "\n",
      "내가 착수한 위치 : 8행 O열\n",
      "\n",
      "==================================================\n",
      "\n"
     ]
    },
    {
     "name": "stdin",
     "output_type": "stream",
     "text": [
      "상대방이 착수 한 곳을 입력해 주세요 10 P\n"
     ]
    },
    {
     "name": "stdout",
     "output_type": "stream",
     "text": [
      "\n",
      "==================================================\n",
      "\n",
      "내가 착수한 위치 : 7행 P열\n",
      "\n",
      "==================================================\n",
      "\n"
     ]
    },
    {
     "name": "stdin",
     "output_type": "stream",
     "text": [
      "상대방이 착수 한 곳을 입력해 주세요 10 O\n"
     ]
    },
    {
     "name": "stdout",
     "output_type": "stream",
     "text": [
      "\n",
      "==================================================\n",
      "\n",
      "내가 착수한 위치 : 10행 Q열\n",
      "\n",
      "==================================================\n",
      "\n"
     ]
    },
    {
     "name": "stdin",
     "output_type": "stream",
     "text": [
      "상대방이 착수 한 곳을 입력해 주세요 11 P\n"
     ]
    },
    {
     "name": "stdout",
     "output_type": "stream",
     "text": [
      "\n",
      "==================================================\n",
      "\n",
      "내가 착수한 위치 : 12행 P열\n",
      "\n",
      "==================================================\n",
      "\n"
     ]
    },
    {
     "name": "stdin",
     "output_type": "stream",
     "text": [
      "상대방이 착수 한 곳을 입력해 주세요 11 N\n"
     ]
    },
    {
     "name": "stdout",
     "output_type": "stream",
     "text": [
      "\n",
      "==================================================\n",
      "\n",
      "내가 착수한 위치 : 12행 M열\n",
      "\n",
      "==================================================\n",
      "\n"
     ]
    },
    {
     "name": "stdin",
     "output_type": "stream",
     "text": [
      "상대방이 착수 한 곳을 입력해 주세요 8 Q\n"
     ]
    },
    {
     "name": "stdout",
     "output_type": "stream",
     "text": [
      "\n",
      "==================================================\n",
      "\n",
      "내가 착수한 위치 : 7행 R열\n",
      "\n",
      "==================================================\n",
      "\n"
     ]
    },
    {
     "name": "stdin",
     "output_type": "stream",
     "text": [
      "상대방이 착수 한 곳을 입력해 주세요 11 O\n"
     ]
    },
    {
     "name": "stdout",
     "output_type": "stream",
     "text": [
      "\n",
      "==================================================\n",
      "\n",
      "내가 착수한 위치 : 11행 Q열\n",
      "\n",
      "==================================================\n",
      "\n"
     ]
    },
    {
     "name": "stdin",
     "output_type": "stream",
     "text": [
      "상대방이 착수 한 곳을 입력해 주세요 11 L\n"
     ]
    },
    {
     "name": "stdout",
     "output_type": "stream",
     "text": [
      "\n",
      "==================================================\n",
      "\n",
      "내가 착수한 위치 : 11행 M열\n",
      "\n",
      "==================================================\n",
      "\n"
     ]
    },
    {
     "name": "stdin",
     "output_type": "stream",
     "text": [
      "상대방이 착수 한 곳을 입력해 주세요 12 N\n"
     ]
    },
    {
     "name": "stdout",
     "output_type": "stream",
     "text": [
      "\n",
      "==================================================\n",
      "\n",
      "내가 착수한 위치 : 6행 Q열\n",
      "\n",
      "==================================================\n",
      "\n"
     ]
    },
    {
     "name": "stdin",
     "output_type": "stream",
     "text": [
      "상대방이 착수 한 곳을 입력해 주세요 5 R\n"
     ]
    },
    {
     "name": "stdout",
     "output_type": "stream",
     "text": [
      "\n",
      "==================================================\n",
      "\n",
      "내가 착수한 위치 : 13행 M열\n",
      "\n",
      "==================================================\n",
      "\n"
     ]
    },
    {
     "name": "stdin",
     "output_type": "stream",
     "text": [
      "상대방이 착수 한 곳을 입력해 주세요 9 Q\n"
     ]
    },
    {
     "name": "stdout",
     "output_type": "stream",
     "text": [
      "\n",
      "==================================================\n",
      "\n",
      "내가 착수한 위치 : 8행 R열\n",
      "\n",
      "==================================================\n",
      "\n"
     ]
    },
    {
     "name": "stdin",
     "output_type": "stream",
     "text": [
      "상대방이 착수 한 곳을 입력해 주세요 14 N\n"
     ]
    },
    {
     "name": "stdout",
     "output_type": "stream",
     "text": [
      "\n",
      "==================================================\n",
      "\n",
      "내가 착수한 위치 : 13행 N열\n",
      "\n",
      "==================================================\n",
      "\n"
     ]
    },
    {
     "name": "stdin",
     "output_type": "stream",
     "text": [
      "상대방이 착수 한 곳을 입력해 주세요 10 R\n"
     ]
    },
    {
     "name": "stdout",
     "output_type": "stream",
     "text": [
      "\n",
      "==================================================\n",
      "\n",
      "내가 착수한 위치 : 11행 S열\n",
      "\n",
      "==================================================\n",
      "\n"
     ]
    },
    {
     "name": "stdin",
     "output_type": "stream",
     "text": [
      "상대방이 착수 한 곳을 입력해 주세요 12 O\n"
     ]
    },
    {
     "name": "stdout",
     "output_type": "stream",
     "text": [
      "\n",
      "==================================================\n",
      "\n",
      "내가 착수한 위치 : 11행 H열\n",
      "\n",
      "==================================================\n",
      "\n"
     ]
    },
    {
     "name": "stdin",
     "output_type": "stream",
     "text": [
      "상대방이 착수 한 곳을 입력해 주세요 12 G\n"
     ]
    },
    {
     "name": "stdout",
     "output_type": "stream",
     "text": [
      "\n",
      "==================================================\n",
      "\n",
      "내가 착수한 위치 : 13행 L열\n",
      "\n",
      "==================================================\n",
      "\n"
     ]
    },
    {
     "name": "stdin",
     "output_type": "stream",
     "text": [
      "상대방이 착수 한 곳을 입력해 주세요 13 K\n"
     ]
    },
    {
     "name": "stdout",
     "output_type": "stream",
     "text": [
      "\n",
      "==================================================\n",
      "\n",
      "내가 착수한 위치 : 6행 I열\n",
      "\n",
      "==================================================\n",
      "\n"
     ]
    },
    {
     "name": "stdin",
     "output_type": "stream",
     "text": [
      "상대방이 착수 한 곳을 입력해 주세요 5 H\n"
     ]
    },
    {
     "name": "stdout",
     "output_type": "stream",
     "text": [
      "\n",
      "==================================================\n",
      "\n",
      "내가 착수한 위치 : 11행 E열\n",
      "\n",
      "==================================================\n",
      "\n"
     ]
    },
    {
     "name": "stdin",
     "output_type": "stream",
     "text": [
      "상대방이 착수 한 곳을 입력해 주세요 11 F\n"
     ]
    },
    {
     "name": "stdout",
     "output_type": "stream",
     "text": [
      "\n",
      "==================================================\n",
      "\n",
      "내가 착수한 위치 : 5행 I열\n",
      "\n",
      "==================================================\n",
      "\n"
     ]
    },
    {
     "name": "stdin",
     "output_type": "stream",
     "text": [
      "상대방이 착수 한 곳을 입력해 주세요 4 I\n"
     ]
    },
    {
     "name": "stdout",
     "output_type": "stream",
     "text": [
      "\n",
      "==================================================\n",
      "\n",
      "내가 착수한 위치 : 6행 E열\n",
      "\n",
      "==================================================\n",
      "\n"
     ]
    },
    {
     "name": "stdin",
     "output_type": "stream",
     "text": [
      "상대방이 착수 한 곳을 입력해 주세요 6 H\n"
     ]
    },
    {
     "name": "stdout",
     "output_type": "stream",
     "text": [
      "\n",
      "==================================================\n",
      "\n",
      "내가 착수한 위치 : 6행 D열\n",
      "\n",
      "==================================================\n",
      "\n"
     ]
    },
    {
     "name": "stdin",
     "output_type": "stream",
     "text": [
      "상대방이 착수 한 곳을 입력해 주세요 6 C\n"
     ]
    },
    {
     "name": "stdout",
     "output_type": "stream",
     "text": [
      "\n",
      "==================================================\n",
      "\n",
      "내가 착수한 위치 : 13행 H열\n",
      "\n",
      "==================================================\n",
      "\n"
     ]
    },
    {
     "name": "stdin",
     "output_type": "stream",
     "text": [
      "상대방이 착수 한 곳을 입력해 주세요 13 O\n"
     ]
    },
    {
     "name": "stdout",
     "output_type": "stream",
     "text": [
      "\n",
      "==================================================\n",
      "\n",
      "내가 착수한 위치 : 14행 O열\n",
      "\n",
      "==================================================\n",
      "\n"
     ]
    },
    {
     "name": "stdin",
     "output_type": "stream",
     "text": [
      "상대방이 착수 한 곳을 입력해 주세요 13 P\n"
     ]
    },
    {
     "name": "stdout",
     "output_type": "stream",
     "text": [
      "\n",
      "==================================================\n",
      "\n",
      "내가 착수한 위치 : 14행 Q열\n",
      "\n",
      "==================================================\n",
      "\n"
     ]
    },
    {
     "name": "stdin",
     "output_type": "stream",
     "text": [
      "상대방이 착수 한 곳을 입력해 주세요 12 H\n"
     ]
    },
    {
     "name": "stdout",
     "output_type": "stream",
     "text": [
      "\n",
      "==================================================\n",
      "\n",
      "내가 착수한 위치 : 12행 I열\n",
      "\n",
      "==================================================\n",
      "\n"
     ]
    },
    {
     "name": "stdin",
     "output_type": "stream",
     "text": [
      "상대방이 착수 한 곳을 입력해 주세요 15 M\n"
     ]
    },
    {
     "name": "stdout",
     "output_type": "stream",
     "text": [
      "\n",
      "==================================================\n",
      "\n",
      "내가 착수한 위치 : 13행 I열\n",
      "\n",
      "==================================================\n",
      "\n"
     ]
    },
    {
     "name": "stdin",
     "output_type": "stream",
     "text": [
      "상대방이 착수 한 곳을 입력해 주세요 14 I\n"
     ]
    },
    {
     "name": "stdout",
     "output_type": "stream",
     "text": [
      "\n",
      "==================================================\n",
      "\n",
      "내가 착수한 위치 : 13행 G열\n",
      "\n",
      "==================================================\n",
      "\n"
     ]
    },
    {
     "name": "stdin",
     "output_type": "stream",
     "text": [
      "상대방이 착수 한 곳을 입력해 주세요 13 F\n"
     ]
    },
    {
     "name": "stdout",
     "output_type": "stream",
     "text": [
      "\n",
      "==================================================\n",
      "\n",
      "내가 착수한 위치 : 12행 F열\n",
      "\n",
      "==================================================\n",
      "\n"
     ]
    },
    {
     "name": "stdin",
     "output_type": "stream",
     "text": [
      "상대방이 착수 한 곳을 입력해 주세요 10 D\n"
     ]
    },
    {
     "name": "stdout",
     "output_type": "stream",
     "text": [
      "\n",
      "==================================================\n",
      "\n",
      "내가 착수한 위치 : 15행 I열\n",
      "\n",
      "==================================================\n",
      "\n"
     ]
    },
    {
     "name": "stdin",
     "output_type": "stream",
     "text": [
      "상대방이 착수 한 곳을 입력해 주세요 14 H\n"
     ]
    },
    {
     "name": "stdout",
     "output_type": "stream",
     "text": [
      "\n",
      "==================================================\n",
      "\n",
      "내가 착수한 위치 : 14행 K열\n",
      "\n",
      "==================================================\n",
      "\n"
     ]
    },
    {
     "name": "stdin",
     "output_type": "stream",
     "text": [
      "상대방이 착수 한 곳을 입력해 주세요 15 L\n"
     ]
    },
    {
     "name": "stdout",
     "output_type": "stream",
     "text": [
      "\n",
      "==================================================\n",
      "\n",
      "내가 착수한 위치 : 15행 P열\n",
      "\n",
      "==================================================\n",
      "\n"
     ]
    },
    {
     "name": "stdin",
     "output_type": "stream",
     "text": [
      "상대방이 착수 한 곳을 입력해 주세요 16 Q\n"
     ]
    },
    {
     "name": "stdout",
     "output_type": "stream",
     "text": [
      "\n",
      "==================================================\n",
      "\n",
      "내가 착수한 위치 : 15행 J열\n",
      "\n",
      "==================================================\n",
      "\n"
     ]
    },
    {
     "name": "stdin",
     "output_type": "stream",
     "text": [
      "상대방이 착수 한 곳을 입력해 주세요 16 I\n"
     ]
    },
    {
     "name": "stdout",
     "output_type": "stream",
     "text": [
      "\n",
      "==================================================\n",
      "\n",
      "내가 착수한 위치 : 15행 G열\n",
      "\n",
      "==================================================\n",
      "\n"
     ]
    },
    {
     "name": "stdin",
     "output_type": "stream",
     "text": [
      "상대방이 착수 한 곳을 입력해 주세요 15 H\n"
     ]
    },
    {
     "name": "stdout",
     "output_type": "stream",
     "text": [
      "\n",
      "==================================================\n",
      "\n",
      "내가 착수한 위치 : 14행 G열\n",
      "\n",
      "==================================================\n",
      "\n"
     ]
    },
    {
     "name": "stdin",
     "output_type": "stream",
     "text": [
      "상대방이 착수 한 곳을 입력해 주세요 8 F\n"
     ]
    },
    {
     "name": "stdout",
     "output_type": "stream",
     "text": [
      "\n",
      "==================================================\n",
      "\n",
      "내가 착수한 위치 : 9행 E열\n",
      "\n",
      "==================================================\n",
      "\n"
     ]
    },
    {
     "name": "stdin",
     "output_type": "stream",
     "text": [
      "상대방이 착수 한 곳을 입력해 주세요 8 E\n"
     ]
    },
    {
     "name": "stdout",
     "output_type": "stream",
     "text": [
      "\n",
      "==================================================\n",
      "\n",
      "내가 착수한 위치 : 8행 D열\n",
      "\n",
      "==================================================\n",
      "\n"
     ]
    },
    {
     "name": "stdin",
     "output_type": "stream",
     "text": [
      "상대방이 착수 한 곳을 입력해 주세요 7 D\n"
     ]
    },
    {
     "name": "stdout",
     "output_type": "stream",
     "text": [
      "\n",
      "==================================================\n",
      "\n",
      "내가 착수한 위치 : 9행 F열\n",
      "\n",
      "==================================================\n",
      "\n"
     ]
    },
    {
     "name": "stdin",
     "output_type": "stream",
     "text": [
      "상대방이 착수 한 곳을 입력해 주세요 16 N\n"
     ]
    },
    {
     "name": "stdout",
     "output_type": "stream",
     "text": [
      "\n",
      "==================================================\n",
      "\n",
      "내가 착수한 위치 : 14행 L열\n",
      "\n",
      "==================================================\n",
      "\n"
     ]
    },
    {
     "name": "stdin",
     "output_type": "stream",
     "text": [
      "상대방이 착수 한 곳을 입력해 주세요 16 L\n"
     ]
    },
    {
     "name": "stdout",
     "output_type": "stream",
     "text": [
      "\n",
      "==================================================\n",
      "\n",
      "내가 착수한 위치 : 17행 K열\n",
      "\n",
      "==================================================\n",
      "\n"
     ]
    },
    {
     "name": "stdin",
     "output_type": "stream",
     "text": [
      "상대방이 착수 한 곳을 입력해 주세요 5 B\n"
     ]
    },
    {
     "name": "stdout",
     "output_type": "stream",
     "text": [
      "\n",
      "==================================================\n",
      "\n",
      "내가 착수한 위치 : 4행 A열\n",
      "\n",
      "==================================================\n",
      "\n"
     ]
    },
    {
     "name": "stdin",
     "output_type": "stream",
     "text": [
      "상대방이 착수 한 곳을 입력해 주세요 16 M\n"
     ]
    },
    {
     "name": "stdout",
     "output_type": "stream",
     "text": [
      "\n",
      "==================================================\n",
      "\n",
      "내가 착수한 위치 : 7행 C열\n",
      "\n",
      "==================================================\n",
      "\n"
     ]
    },
    {
     "name": "stdin",
     "output_type": "stream",
     "text": [
      "상대방이 착수 한 곳을 입력해 주세요 10 F\n"
     ]
    },
    {
     "name": "stdout",
     "output_type": "stream",
     "text": [
      "\n",
      "==================================================\n",
      "\n",
      "내가 착수한 위치 : 17행 G열\n",
      "\n",
      "==================================================\n",
      "\n"
     ]
    },
    {
     "name": "stdin",
     "output_type": "stream",
     "text": [
      "상대방이 착수 한 곳을 입력해 주세요 16 G\n"
     ]
    },
    {
     "name": "stdout",
     "output_type": "stream",
     "text": [
      "\n",
      "==================================================\n",
      "\n",
      "내가 착수한 위치 : 15행 F열\n",
      "\n",
      "==================================================\n",
      "\n"
     ]
    },
    {
     "name": "stdin",
     "output_type": "stream",
     "text": [
      "상대방이 착수 한 곳을 입력해 주세요 16 E\n"
     ]
    },
    {
     "name": "stdout",
     "output_type": "stream",
     "text": [
      "\n",
      "==================================================\n",
      "\n",
      "내가 착수한 위치 : 18행 F열\n",
      "\n",
      "==================================================\n",
      "\n"
     ]
    },
    {
     "name": "stdin",
     "output_type": "stream",
     "text": [
      "상대방이 착수 한 곳을 입력해 주세요 16 K\n"
     ]
    },
    {
     "name": "stdout",
     "output_type": "stream",
     "text": [
      "\n",
      "==================================================\n",
      "\n",
      "내가 착수한 위치 : 16행 O열\n",
      "\n",
      "==================================================\n",
      "\n"
     ]
    },
    {
     "name": "stdin",
     "output_type": "stream",
     "text": [
      "상대방이 착수 한 곳을 입력해 주세요 16 J\n"
     ]
    },
    {
     "name": "stdout",
     "output_type": "stream",
     "text": [
      "\n",
      "==================================================\n",
      "\n",
      "내가 착수한 위치 : 16행 H열\n",
      "\n",
      "==================================================\n",
      "END\n",
      "P2 승리\n"
     ]
    }
   ],
   "source": [
    "# with tf.device('/CPU:0'):\n",
    "    print('=' * 50)\n",
    "    print()\n",
    "    model = load_model('/home/jinjinjara1022/OmokAI/models/best.h5')\n",
    "    board = np.zeros((19, 19), dtype=np.int8)\n",
    "    first_turn, location_r, location_c = list(input('선공인가요?(Y/N) 첫번째 착수 위치를 알려주세요.').split())\n",
    "    print()\n",
    "    print('=' * 50)\n",
    "    if first_turn == 'Y':\n",
    "        board[19 - int(location_r), ord(location_c)-65] = 1\n",
    "    else:\n",
    "        board[19 - int(location_r), ord(location_c)-65] = -1\n",
    "    \n",
    "    print_board(board)\n",
    "    \n",
    "    if first_turn != 'Y':\n",
    "        input_ = board.copy()\n",
    "        input_ = np.expand_dims(input_, axis=(0, -1)).astype(np.float32)\n",
    "        output = model.predict(input_, verbose=0).squeeze()\n",
    "        output = output.reshape((19, 19))\n",
    "        output_y, output_x = np.unravel_index(np.argmax(output), output.shape)\n",
    "        if board[output_y, output_x] == 0:\n",
    "            board[output_y, output_x] = 1\n",
    "        else:\n",
    "            while True:\n",
    "                output[output_y, output_x] = -np.inf\n",
    "                output_y, output_x = np.unravel_index(np.argmax(output), output.shape)\n",
    "                if board[output_y, output_x] == 0:\n",
    "                    board[output_y, output_x] = 1\n",
    "                    break\n",
    "        print_board(board)\n",
    "        print()\n",
    "        print(f\"착수한 위치 : {19-output_y}행 {chr(output_x + 65)}열\")\n",
    "        print()\n",
    "        print('=' * 50)\n",
    "    \n",
    "    while True:\n",
    "        if end1(board):\n",
    "            print('P1 승리')\n",
    "            break\n",
    "        if end2(board):\n",
    "            print('P2 승리')\n",
    "            break\n",
    "            \n",
    "        print()\n",
    "        location_r, location_c = list(input(\"상대방이 착수 한 곳을 입력해 주세요\").split())\n",
    "        if board[19-int(location_r), ord(location_c)-65] != 0:\n",
    "            print(\"해당 위치는 이미 착수 되었습니다.\")\n",
    "            continue\n",
    "        board[19-int(location_r), ord(location_c)-65] = -1\n",
    "\n",
    "        \n",
    "                \n",
    "        \n",
    "        input_ = board.copy()\n",
    "        input_ = np.expand_dims(input_, axis=(0, -1)).astype(np.float32)\n",
    "        output = model.predict(input_, verbose=0).squeeze()\n",
    "        output = output.reshape((19, 19))\n",
    "        output_y, output_x = np.unravel_index(np.argmax(output), output.shape)\n",
    "        if board[output_y, output_x] == 0:\n",
    "            board[output_y, output_x] = 1\n",
    "        else:\n",
    "            while True:\n",
    "                output[output_y, output_x] = -np.inf\n",
    "                output_y, output_x = np.unravel_index(np.argmax(output), output.shape)\n",
    "                if board[output_y, output_x] == 0:\n",
    "                    board[output_y, output_x] = 1\n",
    "                    break\n",
    "        print()\n",
    "        print('=' * 50)\n",
    "        print()\n",
    "        print(f\"내가 착수한 위치 : {19-output_y}행 {chr(output_x + 65)}열\")\n",
    "        print()\n",
    "        print('=' * 50)\n",
    "        print_board(board)"
   ]
  },
  {
   "cell_type": "code",
   "execution_count": null,
   "id": "f2bdb8eb-5c5e-4f19-9051-495b4068b86b",
   "metadata": {},
   "outputs": [],
   "source": []
  }
 ],
 "metadata": {
  "kernelspec": {
   "display_name": "Python 3 (ipykernel)",
   "language": "python",
   "name": "python3"
  },
  "language_info": {
   "codemirror_mode": {
    "name": "ipython",
    "version": 3
   },
   "file_extension": ".py",
   "mimetype": "text/x-python",
   "name": "python",
   "nbconvert_exporter": "python",
   "pygments_lexer": "ipython3",
   "version": "3.11.7"
  }
 },
 "nbformat": 4,
 "nbformat_minor": 5
}
