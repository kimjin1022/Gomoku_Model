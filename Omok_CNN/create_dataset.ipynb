{
 "cells": [
  {
   "cell_type": "code",
   "execution_count": 1,
   "id": "40fed10b-3784-4a73-b937-5e40b04745be",
   "metadata": {},
   "outputs": [],
   "source": [
    "import numpy as np\n",
    "import os\n",
    "from glob import glob\n",
    "from tqdm import tqdm"
   ]
  },
  {
   "cell_type": "code",
   "execution_count": 2,
   "id": "6f9d87f6-9bd3-4274-aea3-895ade01b9c2",
   "metadata": {},
   "outputs": [
    {
     "data": {
      "text/plain": [
       "'/home/jinjinjara1022/OmokAI'"
      ]
     },
     "execution_count": 2,
     "metadata": {},
     "output_type": "execute_result"
    }
   ],
   "source": [
    "os.getcwd()"
   ]
  },
  {
   "cell_type": "code",
   "execution_count": 3,
   "id": "7ec13ad7-401c-432a-b6b9-cdf45bfb5d70",
   "metadata": {},
   "outputs": [],
   "source": [
    "base_path = '/home/jinjinjara1022/OmokAI/gomocup_results'\n",
    "output_path = os.path.join('dataset3', os.path.basename(base_path))\n",
    "os.makedirs(output_path, exist_ok=True)"
   ]
  },
  {
   "cell_type": "code",
   "execution_count": 4,
   "id": "98d925e0-a734-47a0-abf1-7feb0c59c36a",
   "metadata": {},
   "outputs": [
    {
     "name": "stdout",
     "output_type": "stream",
     "text": [
      "48627\n"
     ]
    }
   ],
   "source": [
    "file_list = glob(os.path.join(base_path, '%s*/*.psq' % ('Freestyle', )))\n",
    "print(len(file_list))"
   ]
  },
  {
   "cell_type": "code",
   "execution_count": 5,
   "id": "0b3542b3-8ffd-4158-a9b4-c47801b1f941",
   "metadata": {},
   "outputs": [
    {
     "name": "stderr",
     "output_type": "stream",
     "text": [
      "100%|████████████████████████████████████| 48627/48627 [05:00<00:00, 161.67it/s]\n"
     ]
    }
   ],
   "source": [
    "chk = 0\n",
    "for index, file_path in enumerate(tqdm(file_list)):\n",
    "    with open(file_path, 'r') as f:\n",
    "        lines = f.read().splitlines()\n",
    "\n",
    "    inputs, outputs = [], []\n",
    "    board = np.zeros([19, 19], dtype=np.int8)\n",
    "    save = True\n",
    "    for i, line in enumerate(lines[1:]):\n",
    "        if ',' not in line:\n",
    "            break\n",
    "\n",
    "        x, y, t = np.array(line.split(','), np.int8)\n",
    "        \n",
    "        if x == 20 or y == 20:\n",
    "            save = False\n",
    "            break\n",
    "\n",
    "        if i % 2 == 0:\n",
    "            player = 1\n",
    "        else:\n",
    "            player = 2\n",
    "\n",
    "        input = board.copy().astype(np.int8)\n",
    "        input[(input != player) & (input != 0)] = -1\n",
    "        input[(input == player) & (input != 0)] = 1\n",
    "        \n",
    "        output = np.zeros([19, 19], dtype=np.int8)\n",
    "        output[y-1, x-1] = 1\n",
    "\n",
    "        for k in range(4):\n",
    "            input_rot = np.rot90(input, k=k)\n",
    "            output_rot = np.rot90(output, k=k)\n",
    "\n",
    "            inputs.append(input_rot)\n",
    "            outputs.append(output_rot)\n",
    "\n",
    "            inputs.append(np.fliplr(input_rot))\n",
    "            outputs.append(np.fliplr(output_rot))\n",
    "\n",
    "            inputs.append(np.flipud(input_rot))\n",
    "            outputs.append(np.flipud(output_rot))\n",
    "        \n",
    "        board[y-1, x-1] = player\n",
    "\n",
    "    if save:\n",
    "        chk += 1\n",
    "        np.savez_compressed(os.path.join(output_path, '%s.npz' % (str(chk).zfill(5))), inputs=inputs, outputs=outputs)"
   ]
  }
 ],
 "metadata": {
  "kernelspec": {
   "display_name": "Python 3 (ipykernel)",
   "language": "python",
   "name": "python3"
  },
  "language_info": {
   "codemirror_mode": {
    "name": "ipython",
    "version": 3
   },
   "file_extension": ".py",
   "mimetype": "text/x-python",
   "name": "python",
   "nbconvert_exporter": "python",
   "pygments_lexer": "ipython3",
   "version": "3.10.12"
  }
 },
 "nbformat": 4,
 "nbformat_minor": 5
}
