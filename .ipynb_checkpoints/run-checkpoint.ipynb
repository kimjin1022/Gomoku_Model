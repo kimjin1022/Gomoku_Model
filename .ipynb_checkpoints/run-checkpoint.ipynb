{
 "cells": [
  {
   "cell_type": "code",
   "execution_count": 1,
   "id": "c2e4bfdf-75b3-4c21-ab15-3eaf11992cd7",
   "metadata": {
    "scrolled": true
   },
   "outputs": [
    {
     "name": "stderr",
     "output_type": "stream",
     "text": [
      "2024-06-08 00:51:50.955711: I tensorflow/core/platform/cpu_feature_guard.cc:193] This TensorFlow binary is optimized with oneAPI Deep Neural Network Library (oneDNN) to use the following CPU instructions in performance-critical operations:  SSE4.1 SSE4.2 AVX AVX2 AVX512F AVX512_VNNI FMA\n",
      "To enable them in other operations, rebuild TensorFlow with the appropriate compiler flags.\n",
      "2024-06-08 00:51:51.266690: I tensorflow/core/util/port.cc:104] oneDNN custom operations are on. You may see slightly different numerical results due to floating-point round-off errors from different computation orders. To turn them off, set the environment variable `TF_ENABLE_ONEDNN_OPTS=0`.\n"
     ]
    }
   ],
   "source": [
    "import numpy as np\n",
    "from tensorflow.keras.models import load_model\n",
    "import tensorflow as tf\n",
    "import os\n",
    "os.environ['TF_CPP_MIN_LOG_LEVEL'] = '2'"
   ]
  },
  {
   "cell_type": "code",
   "execution_count": 2,
   "id": "57488bb0-652d-4359-a30d-0c326c69120e",
   "metadata": {},
   "outputs": [],
   "source": [
    "def end1(board):\n",
    "    # 보드의 가로, 세로, 대각선을 모두 확인하여 종료 조건을 확인\n",
    "    for i in range(19):\n",
    "        for j in range(19):\n",
    "            # 가로 확인\n",
    "            if j + 5 <= 19:\n",
    "                if np.all(board[i, j:j+5] == 1):\n",
    "                    print('END')\n",
    "                    return True\n",
    "            # 세로 확인\n",
    "            if i + 5 <= 19:\n",
    "                if np.all(board[i:i+5, j] == 1):\n",
    "                    print('END')\n",
    "                    return True\n",
    "            # 대각선 확인 (오른쪽 아래 방향)\n",
    "            if i + 5 <= 19 and j + 5 <= 19:\n",
    "                if np.all(np.diag(board[i:i+5, j:j+5]) == 1):\n",
    "                    print('END')\n",
    "                    return True\n",
    "            # 대각선 확인 (왼쪽 아래 방향)\n",
    "            if i + 5 <= 19 and j - 5 >= -1:\n",
    "                if np.all(np.diag(np.fliplr(board[i:i+5, j-4:j+1])) == 1):\n",
    "                    print('END')\n",
    "                    return True\n",
    "    return False\n",
    "\n",
    "def end2(board):\n",
    "    # 보드의 가로, 세로, 대각선을 모두 확인하여 종료 조건을 확인\n",
    "    for i in range(19):\n",
    "        for j in range(19):\n",
    "            # 가로 확인\n",
    "            if j + 5 <= 19:\n",
    "                if np.all(board[i, j:j+5] == -1):\n",
    "                    print('END')\n",
    "                    return True\n",
    "            # 세로 확인\n",
    "            if i + 5 <= 19:\n",
    "                if np.all(board[i:i+5, j] == -1):\n",
    "                    print('END')\n",
    "                    return True\n",
    "            # 대각선 확인 (오른쪽 아래 방향)\n",
    "            if i + 5 <= 19 and j + 5 <= 19:\n",
    "                if np.all(np.diag(board[i:i+5, j:j+5]) == -1):\n",
    "                    print('END')\n",
    "                    return True\n",
    "            # 대각선 확인 (왼쪽 아래 방향)\n",
    "            if i + 5 <= 19 and j - 5 >= -1:\n",
    "                if np.all(np.diag(np.fliplr(board[i:i+5, j-4:j+1])) == -1):\n",
    "                    print('END')\n",
    "                    return True\n",
    "    return False\n",
    "\n",
    "\n",
    "def print_board(board):\n",
    "    return\n",
    "    for i in board:\n",
    "        print(i)"
   ]
  },
  {
   "cell_type": "code",
   "execution_count": 3,
   "id": "96530691-4f09-49d3-b08c-b5408c36162c",
   "metadata": {},
   "outputs": [
    {
     "name": "stdout",
     "output_type": "stream",
     "text": [
      "==================================================\n",
      "\n"
     ]
    },
    {
     "name": "stderr",
     "output_type": "stream",
     "text": [
      "2024-06-08 00:52:12.774971: I tensorflow/core/common_runtime/gpu/gpu_device.cc:1613] Created device /job:localhost/replica:0/task:0/device:GPU:0 with 14825 MB memory:  -> device: 0, name: Quadro RTX 5000, pci bus id: 0000:3b:00.0, compute capability: 7.5\n",
      "2024-06-08 00:52:12.776025: I tensorflow/core/common_runtime/gpu/gpu_device.cc:1613] Created device /job:localhost/replica:0/task:0/device:GPU:1 with 14825 MB memory:  -> device: 1, name: Quadro RTX 5000, pci bus id: 0000:5e:00.0, compute capability: 7.5\n",
      "2024-06-08 00:52:12.776973: I tensorflow/core/common_runtime/gpu/gpu_device.cc:1613] Created device /job:localhost/replica:0/task:0/device:GPU:2 with 14825 MB memory:  -> device: 2, name: Quadro RTX 5000, pci bus id: 0000:86:00.0, compute capability: 7.5\n",
      "2024-06-08 00:52:12.777855: I tensorflow/core/common_runtime/gpu/gpu_device.cc:1613] Created device /job:localhost/replica:0/task:0/device:GPU:3 with 14825 MB memory:  -> device: 3, name: Quadro RTX 5000, pci bus id: 0000:af:00.0, compute capability: 7.5\n"
     ]
    },
    {
     "name": "stdin",
     "output_type": "stream",
     "text": [
      "선공인가요?(Y/N) 첫번째 착수 위치를 알려주세요. N 10 J\n"
     ]
    },
    {
     "name": "stdout",
     "output_type": "stream",
     "text": [
      "\n",
      "==================================================\n",
      "\n",
      "착수한 위치 : 8행 I열\n",
      "\n",
      "==================================================\n",
      "\n"
     ]
    },
    {
     "name": "stdin",
     "output_type": "stream",
     "text": [
      "상대방이 착수 한 곳을 입력해 주세요 10 K\n"
     ]
    },
    {
     "name": "stdout",
     "output_type": "stream",
     "text": [
      "\n",
      "==================================================\n",
      "\n",
      "내가 착수한 위치 : 10행 I열\n",
      "\n",
      "==================================================\n",
      "\n"
     ]
    },
    {
     "name": "stdin",
     "output_type": "stream",
     "text": [
      "상대방이 착수 한 곳을 입력해 주세요 9 I\n"
     ]
    },
    {
     "name": "stdout",
     "output_type": "stream",
     "text": [
      "\n",
      "==================================================\n",
      "\n",
      "내가 착수한 위치 : 11행 K열\n",
      "\n",
      "==================================================\n",
      "\n"
     ]
    },
    {
     "name": "stdin",
     "output_type": "stream",
     "text": [
      "상대방이 착수 한 곳을 입력해 주세요 8 H\n"
     ]
    },
    {
     "name": "stdout",
     "output_type": "stream",
     "text": [
      "\n",
      "==================================================\n",
      "\n",
      "내가 착수한 위치 : 9행 H열\n",
      "\n",
      "==================================================\n",
      "\n"
     ]
    },
    {
     "name": "stdin",
     "output_type": "stream",
     "text": [
      "상대방이 착수 한 곳을 입력해 주세요 7 G\n"
     ]
    },
    {
     "name": "stdout",
     "output_type": "stream",
     "text": [
      "\n",
      "==================================================\n",
      "\n",
      "내가 착수한 위치 : 6행 F열\n",
      "\n",
      "==================================================\n",
      "\n"
     ]
    },
    {
     "name": "stdin",
     "output_type": "stream",
     "text": [
      "상대방이 착수 한 곳을 입력해 주세요 11 J\n"
     ]
    },
    {
     "name": "stdout",
     "output_type": "stream",
     "text": [
      "\n",
      "==================================================\n",
      "\n",
      "내가 착수한 위치 : 7행 J열\n",
      "\n",
      "==================================================\n",
      "\n"
     ]
    },
    {
     "name": "stdin",
     "output_type": "stream",
     "text": [
      "상대방이 착수 한 곳을 입력해 주세요 10 G\n"
     ]
    },
    {
     "name": "stdout",
     "output_type": "stream",
     "text": [
      "\n",
      "==================================================\n",
      "\n",
      "내가 착수한 위치 : 6행 K열\n",
      "\n",
      "==================================================\n",
      "\n"
     ]
    },
    {
     "name": "stdin",
     "output_type": "stream",
     "text": [
      "상대방이 착수 한 곳을 입력해 주세요 5 L\n"
     ]
    },
    {
     "name": "stdout",
     "output_type": "stream",
     "text": [
      "\n",
      "==================================================\n",
      "\n",
      "내가 착수한 위치 : 9행 L열\n",
      "\n",
      "==================================================\n",
      "\n"
     ]
    },
    {
     "name": "stdin",
     "output_type": "stream",
     "text": [
      "상대방이 착수 한 곳을 입력해 주세요 10 M\n"
     ]
    },
    {
     "name": "stdout",
     "output_type": "stream",
     "text": [
      "\n",
      "==================================================\n",
      "\n",
      "내가 착수한 위치 : 13행 J열\n",
      "\n",
      "==================================================\n",
      "\n"
     ]
    },
    {
     "name": "stdin",
     "output_type": "stream",
     "text": [
      "상대방이 착수 한 곳을 입력해 주세요 10 N\n"
     ]
    },
    {
     "name": "stdout",
     "output_type": "stream",
     "text": [
      "\n",
      "==================================================\n",
      "\n",
      "내가 착수한 위치 : 10행 L열\n",
      "\n",
      "==================================================\n",
      "\n"
     ]
    },
    {
     "name": "stdin",
     "output_type": "stream",
     "text": [
      "상대방이 착수 한 곳을 입력해 주세요 9 G\n"
     ]
    },
    {
     "name": "stdout",
     "output_type": "stream",
     "text": [
      "\n",
      "==================================================\n",
      "\n",
      "내가 착수한 위치 : 11행 G열\n",
      "\n",
      "==================================================\n",
      "\n"
     ]
    },
    {
     "name": "stdin",
     "output_type": "stream",
     "text": [
      "상대방이 착수 한 곳을 입력해 주세요 8 G\n"
     ]
    },
    {
     "name": "stdout",
     "output_type": "stream",
     "text": [
      "\n",
      "==================================================\n",
      "\n",
      "내가 착수한 위치 : 6행 G열\n",
      "\n",
      "==================================================\n",
      "\n"
     ]
    },
    {
     "name": "stdin",
     "output_type": "stream",
     "text": [
      "상대방이 착수 한 곳을 입력해 주세요 6 J\n"
     ]
    },
    {
     "name": "stdout",
     "output_type": "stream",
     "text": [
      "\n",
      "==================================================\n",
      "\n",
      "내가 착수한 위치 : 7행 I열\n",
      "\n",
      "==================================================\n",
      "\n"
     ]
    },
    {
     "name": "stdin",
     "output_type": "stream",
     "text": [
      "상대방이 착수 한 곳을 입력해 주세요 8 L\n"
     ]
    },
    {
     "name": "stdout",
     "output_type": "stream",
     "text": [
      "\n",
      "==================================================\n",
      "\n",
      "내가 착수한 위치 : 9행 M열\n",
      "\n",
      "==================================================\n",
      "\n"
     ]
    },
    {
     "name": "stdin",
     "output_type": "stream",
     "text": [
      "상대방이 착수 한 곳을 입력해 주세요 12 J\n"
     ]
    },
    {
     "name": "stdout",
     "output_type": "stream",
     "text": [
      "\n",
      "==================================================\n",
      "\n",
      "내가 착수한 위치 : 9행 N열\n",
      "\n",
      "==================================================\n",
      "\n"
     ]
    },
    {
     "name": "stdin",
     "output_type": "stream",
     "text": [
      "상대방이 착수 한 곳을 입력해 주세요 9 K\n"
     ]
    },
    {
     "name": "stdout",
     "output_type": "stream",
     "text": [
      "\n",
      "==================================================\n",
      "\n",
      "내가 착수한 위치 : 11행 I열\n",
      "\n",
      "==================================================\n",
      "\n"
     ]
    },
    {
     "name": "stdin",
     "output_type": "stream",
     "text": [
      "상대방이 착수 한 곳을 입력해 주세요 7 M\n"
     ]
    },
    {
     "name": "stdout",
     "output_type": "stream",
     "text": [
      "\n",
      "==================================================\n",
      "\n",
      "내가 착수한 위치 : 6행 N열\n",
      "\n",
      "==================================================\n",
      "\n"
     ]
    },
    {
     "name": "stdin",
     "output_type": "stream",
     "text": [
      "상대방이 착수 한 곳을 입력해 주세요 8 J\n"
     ]
    },
    {
     "name": "stdout",
     "output_type": "stream",
     "text": [
      "\n",
      "==================================================\n",
      "\n",
      "내가 착수한 위치 : 9행 J열\n",
      "\n",
      "==================================================\n",
      "\n"
     ]
    },
    {
     "name": "stdin",
     "output_type": "stream",
     "text": [
      "상대방이 착수 한 곳을 입력해 주세요 6 L\n"
     ]
    },
    {
     "name": "stdout",
     "output_type": "stream",
     "text": [
      "\n",
      "==================================================\n",
      "\n",
      "내가 착수한 위치 : 7행 K열\n",
      "\n",
      "==================================================\n",
      "\n"
     ]
    },
    {
     "name": "stdin",
     "output_type": "stream",
     "text": [
      "상대방이 착수 한 곳을 입력해 주세요 7 L\n"
     ]
    },
    {
     "name": "stdout",
     "output_type": "stream",
     "text": [
      "\n",
      "==================================================\n",
      "\n",
      "내가 착수한 위치 : 4행 L열\n",
      "\n",
      "==================================================\n",
      "\n"
     ]
    },
    {
     "name": "stdin",
     "output_type": "stream",
     "text": [
      "상대방이 착수 한 곳을 입력해 주세요 8 N\n"
     ]
    },
    {
     "name": "stdout",
     "output_type": "stream",
     "text": [
      "\n",
      "==================================================\n",
      "\n",
      "내가 착수한 위치 : 9행 O열\n",
      "\n",
      "==================================================\n",
      "\n"
     ]
    },
    {
     "name": "stdin",
     "output_type": "stream",
     "text": [
      "상대방이 착수 한 곳을 입력해 주세요 9 P\n"
     ]
    },
    {
     "name": "stdout",
     "output_type": "stream",
     "text": [
      "\n",
      "==================================================\n",
      "\n",
      "내가 착수한 위치 : 7행 H열\n",
      "\n",
      "==================================================\n",
      "\n"
     ]
    },
    {
     "name": "stdin",
     "output_type": "stream",
     "text": [
      "상대방이 착수 한 곳을 입력해 주세요 5 F\n"
     ]
    },
    {
     "name": "stdout",
     "output_type": "stream",
     "text": [
      "\n",
      "==================================================\n",
      "\n",
      "내가 착수한 위치 : 5행 K열\n",
      "\n",
      "==================================================\n",
      "\n"
     ]
    },
    {
     "name": "stdin",
     "output_type": "stream",
     "text": [
      "상대방이 착수 한 곳을 입력해 주세요 4 K\n"
     ]
    },
    {
     "name": "stdout",
     "output_type": "stream",
     "text": [
      "\n",
      "==================================================\n",
      "\n",
      "내가 착수한 위치 : 5행 M열\n",
      "\n",
      "==================================================\n",
      "\n"
     ]
    },
    {
     "name": "stdin",
     "output_type": "stream",
     "text": [
      "상대방이 착수 한 곳을 입력해 주세요 7 O\n"
     ]
    },
    {
     "name": "stdout",
     "output_type": "stream",
     "text": [
      "\n",
      "==================================================\n",
      "\n",
      "내가 착수한 위치 : 7행 N열\n",
      "\n",
      "==================================================\n",
      "\n"
     ]
    },
    {
     "name": "stdin",
     "output_type": "stream",
     "text": [
      "상대방이 착수 한 곳을 입력해 주세요 8 M\n"
     ]
    },
    {
     "name": "stdout",
     "output_type": "stream",
     "text": [
      "\n",
      "==================================================\n",
      "\n",
      "내가 착수한 위치 : 8행 K열\n",
      "\n",
      "==================================================\n",
      "\n"
     ]
    },
    {
     "name": "stdin",
     "output_type": "stream",
     "text": [
      "상대방이 착수 한 곳을 입력해 주세요 8 P\n"
     ]
    },
    {
     "name": "stdout",
     "output_type": "stream",
     "text": [
      "\n",
      "==================================================\n",
      "\n",
      "내가 착수한 위치 : 8행 O열\n",
      "\n",
      "==================================================\n",
      "\n"
     ]
    },
    {
     "name": "stdin",
     "output_type": "stream",
     "text": [
      "상대방이 착수 한 곳을 입력해 주세요 10 P\n"
     ]
    },
    {
     "name": "stdout",
     "output_type": "stream",
     "text": [
      "\n",
      "==================================================\n",
      "\n",
      "내가 착수한 위치 : 7행 P열\n",
      "\n",
      "==================================================\n",
      "\n"
     ]
    },
    {
     "name": "stdin",
     "output_type": "stream",
     "text": [
      "상대방이 착수 한 곳을 입력해 주세요 10 O\n"
     ]
    },
    {
     "name": "stdout",
     "output_type": "stream",
     "text": [
      "\n",
      "==================================================\n",
      "\n",
      "내가 착수한 위치 : 10행 Q열\n",
      "\n",
      "==================================================\n",
      "\n"
     ]
    },
    {
     "name": "stdin",
     "output_type": "stream",
     "text": [
      "상대방이 착수 한 곳을 입력해 주세요 11 P\n"
     ]
    },
    {
     "name": "stdout",
     "output_type": "stream",
     "text": [
      "\n",
      "==================================================\n",
      "\n",
      "내가 착수한 위치 : 12행 P열\n",
      "\n",
      "==================================================\n",
      "\n"
     ]
    },
    {
     "name": "stdin",
     "output_type": "stream",
     "text": [
      "상대방이 착수 한 곳을 입력해 주세요 11 N\n"
     ]
    },
    {
     "name": "stdout",
     "output_type": "stream",
     "text": [
      "\n",
      "==================================================\n",
      "\n",
      "내가 착수한 위치 : 12행 M열\n",
      "\n",
      "==================================================\n",
      "\n"
     ]
    },
    {
     "name": "stdin",
     "output_type": "stream",
     "text": [
      "상대방이 착수 한 곳을 입력해 주세요 8 Q\n"
     ]
    },
    {
     "name": "stdout",
     "output_type": "stream",
     "text": [
      "\n",
      "==================================================\n",
      "\n",
      "내가 착수한 위치 : 7행 R열\n",
      "\n",
      "==================================================\n",
      "\n"
     ]
    },
    {
     "name": "stdin",
     "output_type": "stream",
     "text": [
      "상대방이 착수 한 곳을 입력해 주세요 11 O\n"
     ]
    },
    {
     "name": "stdout",
     "output_type": "stream",
     "text": [
      "\n",
      "==================================================\n",
      "\n",
      "내가 착수한 위치 : 11행 Q열\n",
      "\n",
      "==================================================\n",
      "\n"
     ]
    },
    {
     "name": "stdin",
     "output_type": "stream",
     "text": [
      "상대방이 착수 한 곳을 입력해 주세요 11 L\n"
     ]
    },
    {
     "name": "stdout",
     "output_type": "stream",
     "text": [
      "\n",
      "==================================================\n",
      "\n",
      "내가 착수한 위치 : 11행 M열\n",
      "\n",
      "==================================================\n",
      "\n"
     ]
    },
    {
     "name": "stdin",
     "output_type": "stream",
     "text": [
      "상대방이 착수 한 곳을 입력해 주세요 12 N\n"
     ]
    },
    {
     "name": "stdout",
     "output_type": "stream",
     "text": [
      "\n",
      "==================================================\n",
      "\n",
      "내가 착수한 위치 : 6행 Q열\n",
      "\n",
      "==================================================\n",
      "\n"
     ]
    },
    {
     "name": "stdin",
     "output_type": "stream",
     "text": [
      "상대방이 착수 한 곳을 입력해 주세요 5 R\n"
     ]
    },
    {
     "name": "stdout",
     "output_type": "stream",
     "text": [
      "\n",
      "==================================================\n",
      "\n",
      "내가 착수한 위치 : 13행 M열\n",
      "\n",
      "==================================================\n",
      "\n"
     ]
    },
    {
     "name": "stdin",
     "output_type": "stream",
     "text": [
      "상대방이 착수 한 곳을 입력해 주세요 9 Q\n"
     ]
    },
    {
     "name": "stdout",
     "output_type": "stream",
     "text": [
      "\n",
      "==================================================\n",
      "\n",
      "내가 착수한 위치 : 8행 R열\n",
      "\n",
      "==================================================\n",
      "\n"
     ]
    },
    {
     "name": "stdin",
     "output_type": "stream",
     "text": [
      "상대방이 착수 한 곳을 입력해 주세요 14 N\n"
     ]
    },
    {
     "name": "stdout",
     "output_type": "stream",
     "text": [
      "\n",
      "==================================================\n",
      "\n",
      "내가 착수한 위치 : 13행 N열\n",
      "\n",
      "==================================================\n",
      "\n"
     ]
    },
    {
     "name": "stdin",
     "output_type": "stream",
     "text": [
      "상대방이 착수 한 곳을 입력해 주세요 10 R\n"
     ]
    },
    {
     "name": "stdout",
     "output_type": "stream",
     "text": [
      "\n",
      "==================================================\n",
      "\n",
      "내가 착수한 위치 : 11행 S열\n",
      "\n",
      "==================================================\n",
      "\n"
     ]
    },
    {
     "name": "stdin",
     "output_type": "stream",
     "text": [
      "상대방이 착수 한 곳을 입력해 주세요 12 O\n"
     ]
    },
    {
     "name": "stdout",
     "output_type": "stream",
     "text": [
      "\n",
      "==================================================\n",
      "\n",
      "내가 착수한 위치 : 11행 H열\n",
      "\n",
      "==================================================\n",
      "\n"
     ]
    },
    {
     "name": "stdin",
     "output_type": "stream",
     "text": [
      "상대방이 착수 한 곳을 입력해 주세요 12 G\n"
     ]
    },
    {
     "name": "stdout",
     "output_type": "stream",
     "text": [
      "\n",
      "==================================================\n",
      "\n",
      "내가 착수한 위치 : 13행 L열\n",
      "\n",
      "==================================================\n",
      "\n"
     ]
    },
    {
     "name": "stdin",
     "output_type": "stream",
     "text": [
      "상대방이 착수 한 곳을 입력해 주세요 13 K\n"
     ]
    },
    {
     "name": "stdout",
     "output_type": "stream",
     "text": [
      "\n",
      "==================================================\n",
      "\n",
      "내가 착수한 위치 : 6행 I열\n",
      "\n",
      "==================================================\n",
      "\n"
     ]
    },
    {
     "name": "stdin",
     "output_type": "stream",
     "text": [
      "상대방이 착수 한 곳을 입력해 주세요 5 H\n"
     ]
    },
    {
     "name": "stdout",
     "output_type": "stream",
     "text": [
      "\n",
      "==================================================\n",
      "\n",
      "내가 착수한 위치 : 11행 E열\n",
      "\n",
      "==================================================\n",
      "\n"
     ]
    },
    {
     "name": "stdin",
     "output_type": "stream",
     "text": [
      "상대방이 착수 한 곳을 입력해 주세요 11 F\n"
     ]
    },
    {
     "name": "stdout",
     "output_type": "stream",
     "text": [
      "\n",
      "==================================================\n",
      "\n",
      "내가 착수한 위치 : 5행 I열\n",
      "\n",
      "==================================================\n",
      "\n"
     ]
    },
    {
     "name": "stdin",
     "output_type": "stream",
     "text": [
      "상대방이 착수 한 곳을 입력해 주세요 4 I\n"
     ]
    },
    {
     "name": "stdout",
     "output_type": "stream",
     "text": [
      "\n",
      "==================================================\n",
      "\n",
      "내가 착수한 위치 : 6행 E열\n",
      "\n",
      "==================================================\n",
      "\n"
     ]
    },
    {
     "name": "stdin",
     "output_type": "stream",
     "text": [
      "상대방이 착수 한 곳을 입력해 주세요 6 H\n"
     ]
    },
    {
     "name": "stdout",
     "output_type": "stream",
     "text": [
      "\n",
      "==================================================\n",
      "\n",
      "내가 착수한 위치 : 6행 D열\n",
      "\n",
      "==================================================\n",
      "\n"
     ]
    },
    {
     "name": "stdin",
     "output_type": "stream",
     "text": [
      "상대방이 착수 한 곳을 입력해 주세요 6 C\n"
     ]
    },
    {
     "name": "stdout",
     "output_type": "stream",
     "text": [
      "\n",
      "==================================================\n",
      "\n",
      "내가 착수한 위치 : 13행 H열\n",
      "\n",
      "==================================================\n",
      "\n"
     ]
    },
    {
     "name": "stdin",
     "output_type": "stream",
     "text": [
      "상대방이 착수 한 곳을 입력해 주세요 13 O\n"
     ]
    },
    {
     "name": "stdout",
     "output_type": "stream",
     "text": [
      "\n",
      "==================================================\n",
      "\n",
      "내가 착수한 위치 : 14행 O열\n",
      "\n",
      "==================================================\n",
      "\n"
     ]
    },
    {
     "name": "stdin",
     "output_type": "stream",
     "text": [
      "상대방이 착수 한 곳을 입력해 주세요 13 P\n"
     ]
    },
    {
     "name": "stdout",
     "output_type": "stream",
     "text": [
      "\n",
      "==================================================\n",
      "\n",
      "내가 착수한 위치 : 14행 Q열\n",
      "\n",
      "==================================================\n",
      "\n"
     ]
    },
    {
     "name": "stdin",
     "output_type": "stream",
     "text": [
      "상대방이 착수 한 곳을 입력해 주세요 12 H\n"
     ]
    },
    {
     "name": "stdout",
     "output_type": "stream",
     "text": [
      "\n",
      "==================================================\n",
      "\n",
      "내가 착수한 위치 : 12행 I열\n",
      "\n",
      "==================================================\n",
      "\n"
     ]
    },
    {
     "name": "stdin",
     "output_type": "stream",
     "text": [
      "상대방이 착수 한 곳을 입력해 주세요 15 M\n"
     ]
    },
    {
     "name": "stdout",
     "output_type": "stream",
     "text": [
      "\n",
      "==================================================\n",
      "\n",
      "내가 착수한 위치 : 13행 I열\n",
      "\n",
      "==================================================\n",
      "\n"
     ]
    },
    {
     "name": "stdin",
     "output_type": "stream",
     "text": [
      "상대방이 착수 한 곳을 입력해 주세요 14 I\n"
     ]
    },
    {
     "name": "stdout",
     "output_type": "stream",
     "text": [
      "\n",
      "==================================================\n",
      "\n",
      "내가 착수한 위치 : 13행 G열\n",
      "\n",
      "==================================================\n",
      "\n"
     ]
    },
    {
     "name": "stdin",
     "output_type": "stream",
     "text": [
      "상대방이 착수 한 곳을 입력해 주세요 13 F\n"
     ]
    },
    {
     "name": "stdout",
     "output_type": "stream",
     "text": [
      "\n",
      "==================================================\n",
      "\n",
      "내가 착수한 위치 : 12행 F열\n",
      "\n",
      "==================================================\n",
      "\n"
     ]
    },
    {
     "name": "stdin",
     "output_type": "stream",
     "text": [
      "상대방이 착수 한 곳을 입력해 주세요 10 D\n"
     ]
    },
    {
     "name": "stdout",
     "output_type": "stream",
     "text": [
      "\n",
      "==================================================\n",
      "\n",
      "내가 착수한 위치 : 15행 I열\n",
      "\n",
      "==================================================\n",
      "\n"
     ]
    },
    {
     "name": "stdin",
     "output_type": "stream",
     "text": [
      "상대방이 착수 한 곳을 입력해 주세요 14 H\n"
     ]
    },
    {
     "name": "stdout",
     "output_type": "stream",
     "text": [
      "\n",
      "==================================================\n",
      "\n",
      "내가 착수한 위치 : 14행 K열\n",
      "\n",
      "==================================================\n",
      "\n"
     ]
    },
    {
     "name": "stdin",
     "output_type": "stream",
     "text": [
      "상대방이 착수 한 곳을 입력해 주세요 15 L\n"
     ]
    },
    {
     "name": "stdout",
     "output_type": "stream",
     "text": [
      "\n",
      "==================================================\n",
      "\n",
      "내가 착수한 위치 : 15행 P열\n",
      "\n",
      "==================================================\n",
      "\n"
     ]
    },
    {
     "name": "stdin",
     "output_type": "stream",
     "text": [
      "상대방이 착수 한 곳을 입력해 주세요 16 Q\n"
     ]
    },
    {
     "name": "stdout",
     "output_type": "stream",
     "text": [
      "\n",
      "==================================================\n",
      "\n",
      "내가 착수한 위치 : 15행 J열\n",
      "\n",
      "==================================================\n",
      "\n"
     ]
    },
    {
     "name": "stdin",
     "output_type": "stream",
     "text": [
      "상대방이 착수 한 곳을 입력해 주세요 16 I\n"
     ]
    },
    {
     "name": "stdout",
     "output_type": "stream",
     "text": [
      "\n",
      "==================================================\n",
      "\n",
      "내가 착수한 위치 : 15행 G열\n",
      "\n",
      "==================================================\n",
      "\n"
     ]
    },
    {
     "name": "stdin",
     "output_type": "stream",
     "text": [
      "상대방이 착수 한 곳을 입력해 주세요 15 H\n"
     ]
    },
    {
     "name": "stdout",
     "output_type": "stream",
     "text": [
      "\n",
      "==================================================\n",
      "\n",
      "내가 착수한 위치 : 14행 G열\n",
      "\n",
      "==================================================\n",
      "\n"
     ]
    },
    {
     "name": "stdin",
     "output_type": "stream",
     "text": [
      "상대방이 착수 한 곳을 입력해 주세요 8 F\n"
     ]
    },
    {
     "name": "stdout",
     "output_type": "stream",
     "text": [
      "\n",
      "==================================================\n",
      "\n",
      "내가 착수한 위치 : 9행 E열\n",
      "\n",
      "==================================================\n",
      "\n"
     ]
    },
    {
     "name": "stdin",
     "output_type": "stream",
     "text": [
      "상대방이 착수 한 곳을 입력해 주세요 8 E\n"
     ]
    },
    {
     "name": "stdout",
     "output_type": "stream",
     "text": [
      "\n",
      "==================================================\n",
      "\n",
      "내가 착수한 위치 : 8행 D열\n",
      "\n",
      "==================================================\n",
      "\n"
     ]
    },
    {
     "name": "stdin",
     "output_type": "stream",
     "text": [
      "상대방이 착수 한 곳을 입력해 주세요 7 D\n"
     ]
    },
    {
     "name": "stdout",
     "output_type": "stream",
     "text": [
      "\n",
      "==================================================\n",
      "\n",
      "내가 착수한 위치 : 9행 F열\n",
      "\n",
      "==================================================\n",
      "\n"
     ]
    },
    {
     "name": "stdin",
     "output_type": "stream",
     "text": [
      "상대방이 착수 한 곳을 입력해 주세요 16 N\n"
     ]
    },
    {
     "name": "stdout",
     "output_type": "stream",
     "text": [
      "\n",
      "==================================================\n",
      "\n",
      "내가 착수한 위치 : 14행 L열\n",
      "\n",
      "==================================================\n",
      "\n"
     ]
    },
    {
     "name": "stdin",
     "output_type": "stream",
     "text": [
      "상대방이 착수 한 곳을 입력해 주세요 16 L\n"
     ]
    },
    {
     "name": "stdout",
     "output_type": "stream",
     "text": [
      "\n",
      "==================================================\n",
      "\n",
      "내가 착수한 위치 : 17행 K열\n",
      "\n",
      "==================================================\n",
      "\n"
     ]
    },
    {
     "name": "stdin",
     "output_type": "stream",
     "text": [
      "상대방이 착수 한 곳을 입력해 주세요 5 B\n"
     ]
    },
    {
     "name": "stdout",
     "output_type": "stream",
     "text": [
      "\n",
      "==================================================\n",
      "\n",
      "내가 착수한 위치 : 4행 A열\n",
      "\n",
      "==================================================\n",
      "\n"
     ]
    },
    {
     "name": "stdin",
     "output_type": "stream",
     "text": [
      "상대방이 착수 한 곳을 입력해 주세요 16 M\n"
     ]
    },
    {
     "name": "stdout",
     "output_type": "stream",
     "text": [
      "\n",
      "==================================================\n",
      "\n",
      "내가 착수한 위치 : 7행 C열\n",
      "\n",
      "==================================================\n",
      "\n"
     ]
    },
    {
     "name": "stdin",
     "output_type": "stream",
     "text": [
      "상대방이 착수 한 곳을 입력해 주세요 10 F\n"
     ]
    },
    {
     "name": "stdout",
     "output_type": "stream",
     "text": [
      "\n",
      "==================================================\n",
      "\n",
      "내가 착수한 위치 : 17행 G열\n",
      "\n",
      "==================================================\n",
      "\n"
     ]
    },
    {
     "name": "stdin",
     "output_type": "stream",
     "text": [
      "상대방이 착수 한 곳을 입력해 주세요 16 G\n"
     ]
    },
    {
     "name": "stdout",
     "output_type": "stream",
     "text": [
      "\n",
      "==================================================\n",
      "\n",
      "내가 착수한 위치 : 15행 F열\n",
      "\n",
      "==================================================\n",
      "\n"
     ]
    },
    {
     "name": "stdin",
     "output_type": "stream",
     "text": [
      "상대방이 착수 한 곳을 입력해 주세요 16 E\n"
     ]
    },
    {
     "name": "stdout",
     "output_type": "stream",
     "text": [
      "\n",
      "==================================================\n",
      "\n",
      "내가 착수한 위치 : 18행 F열\n",
      "\n",
      "==================================================\n",
      "\n"
     ]
    },
    {
     "name": "stdin",
     "output_type": "stream",
     "text": [
      "상대방이 착수 한 곳을 입력해 주세요 16 K\n"
     ]
    },
    {
     "name": "stdout",
     "output_type": "stream",
     "text": [
      "\n",
      "==================================================\n",
      "\n",
      "내가 착수한 위치 : 16행 O열\n",
      "\n",
      "==================================================\n",
      "\n"
     ]
    },
    {
     "name": "stdin",
     "output_type": "stream",
     "text": [
      "상대방이 착수 한 곳을 입력해 주세요 16 ㅓ\n"
     ]
    },
    {
     "ename": "IndexError",
     "evalue": "index 12562 is out of bounds for axis 1 with size 19",
     "output_type": "error",
     "traceback": [
      "\u001b[0;31m---------------------------------------------------------------------------\u001b[0m",
      "\u001b[0;31mIndexError\u001b[0m                                Traceback (most recent call last)",
      "Cell \u001b[0;32mIn[3], line 47\u001b[0m\n\u001b[1;32m     45\u001b[0m \u001b[38;5;28mprint\u001b[39m()\n\u001b[1;32m     46\u001b[0m location_r, location_c \u001b[38;5;241m=\u001b[39m \u001b[38;5;28mlist\u001b[39m(\u001b[38;5;28minput\u001b[39m(\u001b[38;5;124m\"\u001b[39m\u001b[38;5;124m상대방이 착수 한 곳을 입력해 주세요\u001b[39m\u001b[38;5;124m\"\u001b[39m)\u001b[38;5;241m.\u001b[39msplit())\n\u001b[0;32m---> 47\u001b[0m \u001b[38;5;28;01mif\u001b[39;00m \u001b[43mboard\u001b[49m\u001b[43m[\u001b[49m\u001b[38;5;241;43m19\u001b[39;49m\u001b[38;5;241;43m-\u001b[39;49m\u001b[38;5;28;43mint\u001b[39;49m\u001b[43m(\u001b[49m\u001b[43mlocation_r\u001b[49m\u001b[43m)\u001b[49m\u001b[43m,\u001b[49m\u001b[43m \u001b[49m\u001b[38;5;28;43mord\u001b[39;49m\u001b[43m(\u001b[49m\u001b[43mlocation_c\u001b[49m\u001b[43m)\u001b[49m\u001b[38;5;241;43m-\u001b[39;49m\u001b[38;5;241;43m65\u001b[39;49m\u001b[43m]\u001b[49m \u001b[38;5;241m!=\u001b[39m \u001b[38;5;241m0\u001b[39m:\n\u001b[1;32m     48\u001b[0m     \u001b[38;5;28mprint\u001b[39m(\u001b[38;5;124m\"\u001b[39m\u001b[38;5;124m해당 위치는 이미 착수 되었습니다.\u001b[39m\u001b[38;5;124m\"\u001b[39m)\n\u001b[1;32m     49\u001b[0m     \u001b[38;5;28;01mcontinue\u001b[39;00m\n",
      "\u001b[0;31mIndexError\u001b[0m: index 12562 is out of bounds for axis 1 with size 19"
     ]
    }
   ],
   "source": [
    "with tf.device('/CPU:0'):\n",
    "    print('=' * 50)\n",
    "    print()\n",
    "    model = load_model('/home/jinjinjara1022/OmokAI/models/best.h5')\n",
    "    board = np.zeros((19, 19), dtype=np.int8)\n",
    "    first_turn, location_r, location_c = list(input('선공인가요?(Y/N) 첫번째 착수 위치를 알려주세요.').split())\n",
    "    print()\n",
    "    print('=' * 50)\n",
    "    if first_turn == 'Y':\n",
    "        board[19 - int(location_r), ord(location_c)-65] = 1\n",
    "    else:\n",
    "        board[19 - int(location_r), ord(location_c)-65] = -1\n",
    "    \n",
    "    print_board(board)\n",
    "    \n",
    "    if first_turn != 'Y':\n",
    "        input_ = board.copy()\n",
    "        input_ = np.expand_dims(input_, axis=(0, -1)).astype(np.float32)\n",
    "        output = model.predict(input_, verbose=0).squeeze()\n",
    "        output = output.reshape((19, 19))\n",
    "        output_y, output_x = np.unravel_index(np.argmax(output), output.shape)\n",
    "        if board[output_y, output_x] == 0:\n",
    "            board[output_y, output_x] = 1\n",
    "        else:\n",
    "            while True:\n",
    "                output[output_y, output_x] = -np.inf\n",
    "                output_y, output_x = np.unravel_index(np.argmax(output), output.shape)\n",
    "                if board[output_y, output_x] == 0:\n",
    "                    board[output_y, output_x] = 1\n",
    "                    break\n",
    "        print_board(board)\n",
    "        print()\n",
    "        print(f\"착수한 위치 : {19-output_y}행 {chr(output_x + 65)}열\")\n",
    "        print()\n",
    "        print('=' * 50)\n",
    "    \n",
    "    while True:\n",
    "        if end1(board):\n",
    "            print('P1 승리')\n",
    "            break\n",
    "        if end2(board):\n",
    "            print('P2 승리')\n",
    "            break\n",
    "            \n",
    "        print()\n",
    "        location_r, location_c = list(input(\"상대방이 착수 한 곳을 입력해 주세요\").split())\n",
    "        if board[19-int(location_r), ord(location_c)-65] != 0:\n",
    "            print(\"해당 위치는 이미 착수 되었습니다.\")\n",
    "            continue\n",
    "        board[19-int(location_r), ord(location_c)-65] = -1\n",
    "\n",
    "        \n",
    "                \n",
    "        \n",
    "        input_ = board.copy()\n",
    "        input_ = np.expand_dims(input_, axis=(0, -1)).astype(np.float32)\n",
    "        output = model.predict(input_, verbose=0).squeeze()\n",
    "        output = output.reshape((19, 19))\n",
    "        output_y, output_x = np.unravel_index(np.argmax(output), output.shape)\n",
    "        if board[output_y, output_x] == 0:\n",
    "            board[output_y, output_x] = 1\n",
    "        else:\n",
    "            while True:\n",
    "                output[output_y, output_x] = -np.inf\n",
    "                output_y, output_x = np.unravel_index(np.argmax(output), output.shape)\n",
    "                if board[output_y, output_x] == 0:\n",
    "                    board[output_y, output_x] = 1\n",
    "                    break\n",
    "        print()\n",
    "        print('=' * 50)\n",
    "        print()\n",
    "        print(f\"내가 착수한 위치 : {19-output_y}행 {chr(output_x + 65)}열\")\n",
    "        print()\n",
    "        print('=' * 50)\n",
    "        print_board(board)"
   ]
  },
  {
   "cell_type": "code",
   "execution_count": 4,
   "id": "a8a04613-5208-4f3f-ac97-d27f3bae3842",
   "metadata": {},
   "outputs": [
    {
     "ename": "ModuleNotFoundError",
     "evalue": "No module named 'screeninfo'",
     "output_type": "error",
     "traceback": [
      "\u001b[0;31m---------------------------------------------------------------------------\u001b[0m",
      "\u001b[0;31mDisplayNameError\u001b[0m                          Traceback (most recent call last)",
      "File \u001b[0;32m~/micromamba/envs/tf-gpu/lib/python3.8/site-packages/ursina/window.py:50\u001b[0m, in \u001b[0;36mWindow.__init__\u001b[0;34m(self)\u001b[0m\n\u001b[1;32m     49\u001b[0m \u001b[38;5;28;01mimport\u001b[39;00m \u001b[38;5;21;01mXlib\u001b[39;00m\u001b[38;5;21;01m.\u001b[39;00m\u001b[38;5;21;01mdisplay\u001b[39;00m\n\u001b[0;32m---> 50\u001b[0m resolution \u001b[38;5;241m=\u001b[39m \u001b[43mXlib\u001b[49m\u001b[38;5;241;43m.\u001b[39;49m\u001b[43mdisplay\u001b[49m\u001b[38;5;241;43m.\u001b[39;49m\u001b[43mDisplay\u001b[49m\u001b[43m(\u001b[49m\u001b[43m)\u001b[49m\u001b[38;5;241m.\u001b[39mscreen()\u001b[38;5;241m.\u001b[39mroot\u001b[38;5;241m.\u001b[39mget_geometry()\n\u001b[1;32m     51\u001b[0m \u001b[38;5;28mself\u001b[39m\u001b[38;5;241m.\u001b[39mscreen_resolution \u001b[38;5;241m=\u001b[39m Vec2(resolution\u001b[38;5;241m.\u001b[39mwidth, resolution\u001b[38;5;241m.\u001b[39mheight)\n",
      "File \u001b[0;32m~/micromamba/envs/tf-gpu/lib/python3.8/site-packages/Xlib/display.py:89\u001b[0m, in \u001b[0;36mDisplay.__init__\u001b[0;34m(self, display)\u001b[0m\n\u001b[1;32m     88\u001b[0m \u001b[38;5;28;01mdef\u001b[39;00m \u001b[38;5;21m__init__\u001b[39m(\u001b[38;5;28mself\u001b[39m, display \u001b[38;5;241m=\u001b[39m \u001b[38;5;28;01mNone\u001b[39;00m):\n\u001b[0;32m---> 89\u001b[0m     \u001b[38;5;28mself\u001b[39m\u001b[38;5;241m.\u001b[39mdisplay \u001b[38;5;241m=\u001b[39m \u001b[43m_BaseDisplay\u001b[49m\u001b[43m(\u001b[49m\u001b[43mdisplay\u001b[49m\u001b[43m)\u001b[49m\n\u001b[1;32m     91\u001b[0m     \u001b[38;5;66;03m# Create the keymap cache\u001b[39;00m\n",
      "File \u001b[0;32m~/micromamba/envs/tf-gpu/lib/python3.8/site-packages/Xlib/display.py:71\u001b[0m, in \u001b[0;36m_BaseDisplay.__init__\u001b[0;34m(self, *args, **keys)\u001b[0m\n\u001b[1;32m     70\u001b[0m \u001b[38;5;28;01mdef\u001b[39;00m \u001b[38;5;21m__init__\u001b[39m(\u001b[38;5;28mself\u001b[39m, \u001b[38;5;241m*\u001b[39margs, \u001b[38;5;241m*\u001b[39m\u001b[38;5;241m*\u001b[39mkeys):\n\u001b[0;32m---> 71\u001b[0m     \u001b[43mprotocol_display\u001b[49m\u001b[38;5;241;43m.\u001b[39;49m\u001b[43mDisplay\u001b[49m\u001b[38;5;241;43m.\u001b[39;49m\u001b[38;5;21;43m__init__\u001b[39;49m\u001b[43m(\u001b[49m\u001b[38;5;28;43mself\u001b[39;49m\u001b[43m,\u001b[49m\u001b[43m \u001b[49m\u001b[38;5;241;43m*\u001b[39;49m\u001b[43margs\u001b[49m\u001b[43m,\u001b[49m\u001b[43m \u001b[49m\u001b[38;5;241;43m*\u001b[39;49m\u001b[38;5;241;43m*\u001b[39;49m\u001b[43mkeys\u001b[49m\u001b[43m)\u001b[49m\n\u001b[1;32m     72\u001b[0m     \u001b[38;5;28mself\u001b[39m\u001b[38;5;241m.\u001b[39m_atom_cache \u001b[38;5;241m=\u001b[39m {}\n",
      "File \u001b[0;32m~/micromamba/envs/tf-gpu/lib/python3.8/site-packages/Xlib/protocol/display.py:85\u001b[0m, in \u001b[0;36mDisplay.__init__\u001b[0;34m(self, display)\u001b[0m\n\u001b[1;32m     84\u001b[0m \u001b[38;5;28;01mdef\u001b[39;00m \u001b[38;5;21m__init__\u001b[39m(\u001b[38;5;28mself\u001b[39m, display \u001b[38;5;241m=\u001b[39m \u001b[38;5;28;01mNone\u001b[39;00m):\n\u001b[0;32m---> 85\u001b[0m     name, protocol, host, displayno, screenno \u001b[38;5;241m=\u001b[39m \u001b[43mconnect\u001b[49m\u001b[38;5;241;43m.\u001b[39;49m\u001b[43mget_display\u001b[49m\u001b[43m(\u001b[49m\u001b[43mdisplay\u001b[49m\u001b[43m)\u001b[49m\n\u001b[1;32m     87\u001b[0m     \u001b[38;5;28mself\u001b[39m\u001b[38;5;241m.\u001b[39mdisplay_name \u001b[38;5;241m=\u001b[39m name\n",
      "File \u001b[0;32m~/micromamba/envs/tf-gpu/lib/python3.8/site-packages/Xlib/support/connect.py:73\u001b[0m, in \u001b[0;36mget_display\u001b[0;34m(display)\u001b[0m\n\u001b[1;32m     72\u001b[0m mod \u001b[38;5;241m=\u001b[39m _relative_import(modname)\n\u001b[0;32m---> 73\u001b[0m \u001b[38;5;28;01mreturn\u001b[39;00m \u001b[43mmod\u001b[49m\u001b[38;5;241;43m.\u001b[39;49m\u001b[43mget_display\u001b[49m\u001b[43m(\u001b[49m\u001b[43mdisplay\u001b[49m\u001b[43m)\u001b[49m\n",
      "File \u001b[0;32m~/micromamba/envs/tf-gpu/lib/python3.8/site-packages/Xlib/support/unix_connect.py:61\u001b[0m, in \u001b[0;36mget_display\u001b[0;34m(display)\u001b[0m\n\u001b[1;32m     60\u001b[0m \u001b[38;5;28;01mif\u001b[39;00m \u001b[38;5;129;01mnot\u001b[39;00m m:\n\u001b[0;32m---> 61\u001b[0m     \u001b[38;5;28;01mraise\u001b[39;00m error\u001b[38;5;241m.\u001b[39mDisplayNameError(display)\n\u001b[1;32m     63\u001b[0m name \u001b[38;5;241m=\u001b[39m display\n",
      "\u001b[0;31mDisplayNameError\u001b[0m: Bad display name \"\"",
      "\nDuring handling of the above exception, another exception occurred:\n",
      "\u001b[0;31mModuleNotFoundError\u001b[0m                       Traceback (most recent call last)",
      "Cell \u001b[0;32mIn[4], line 1\u001b[0m\n\u001b[0;32m----> 1\u001b[0m \u001b[38;5;28;01mfrom\u001b[39;00m \u001b[38;5;21;01mursina\u001b[39;00m \u001b[38;5;28;01mimport\u001b[39;00m \u001b[38;5;241m*\u001b[39m\n\u001b[1;32m      2\u001b[0m \u001b[38;5;28;01mimport\u001b[39;00m \u001b[38;5;21;01mnumpy\u001b[39;00m \u001b[38;5;28;01mas\u001b[39;00m \u001b[38;5;21;01mnp\u001b[39;00m\n\u001b[1;32m      3\u001b[0m \u001b[38;5;28;01mfrom\u001b[39;00m \u001b[38;5;21;01mkeras\u001b[39;00m\u001b[38;5;21;01m.\u001b[39;00m\u001b[38;5;21;01mmodels\u001b[39;00m \u001b[38;5;28;01mimport\u001b[39;00m load_model\n",
      "File \u001b[0;32m~/micromamba/envs/tf-gpu/lib/python3.8/site-packages/ursina/__init__.py:9\u001b[0m\n\u001b[1;32m      6\u001b[0m \u001b[38;5;28;01mfrom\u001b[39;00m \u001b[38;5;21;01mcopy\u001b[39;00m \u001b[38;5;28;01mimport\u001b[39;00m copy, deepcopy\n\u001b[1;32m      7\u001b[0m \u001b[38;5;28;01mfrom\u001b[39;00m \u001b[38;5;21;01mmath\u001b[39;00m \u001b[38;5;28;01mimport\u001b[39;00m floor, ceil, inf\n\u001b[0;32m----> 9\u001b[0m \u001b[38;5;28;01mfrom\u001b[39;00m \u001b[38;5;21;01mursina\u001b[39;00m\u001b[38;5;21;01m.\u001b[39;00m\u001b[38;5;21;01mwindow\u001b[39;00m \u001b[38;5;28;01mimport\u001b[39;00m instance \u001b[38;5;28;01mas\u001b[39;00m window\n\u001b[1;32m     10\u001b[0m \u001b[38;5;28;01mfrom\u001b[39;00m \u001b[38;5;21;01mursina\u001b[39;00m\u001b[38;5;21;01m.\u001b[39;00m\u001b[38;5;21;01mcamera\u001b[39;00m \u001b[38;5;28;01mimport\u001b[39;00m instance \u001b[38;5;28;01mas\u001b[39;00m camera\n\u001b[1;32m     11\u001b[0m \u001b[38;5;28;01mfrom\u001b[39;00m \u001b[38;5;21;01mursina\u001b[39;00m\u001b[38;5;21;01m.\u001b[39;00m\u001b[38;5;21;01mmouse\u001b[39;00m \u001b[38;5;28;01mimport\u001b[39;00m instance \u001b[38;5;28;01mas\u001b[39;00m mouse\n",
      "File \u001b[0;32m~/micromamba/envs/tf-gpu/lib/python3.8/site-packages/ursina/window.py:382\u001b[0m\n\u001b[1;32m    377\u001b[0m                     globalClock\u001b[38;5;241m.\u001b[39msetFrameRate(\u001b[38;5;28mint\u001b[39m(value))\n\u001b[1;32m    379\u001b[0m             \u001b[38;5;28mobject\u001b[39m\u001b[38;5;241m.\u001b[39m\u001b[38;5;21m__setattr__\u001b[39m(\u001b[38;5;28mself\u001b[39m, name, value)\n\u001b[0;32m--> 382\u001b[0m instance \u001b[38;5;241m=\u001b[39m \u001b[43mWindow\u001b[49m\u001b[43m(\u001b[49m\u001b[43m)\u001b[49m\n\u001b[1;32m    385\u001b[0m \u001b[38;5;28;01mif\u001b[39;00m \u001b[38;5;18m__name__\u001b[39m \u001b[38;5;241m==\u001b[39m \u001b[38;5;124m'\u001b[39m\u001b[38;5;124m__main__\u001b[39m\u001b[38;5;124m'\u001b[39m:\n\u001b[1;32m    386\u001b[0m     \u001b[38;5;28;01mfrom\u001b[39;00m \u001b[38;5;21;01mursina\u001b[39;00m \u001b[38;5;28;01mimport\u001b[39;00m \u001b[38;5;241m*\u001b[39m\n",
      "File \u001b[0;32m~/micromamba/envs/tf-gpu/lib/python3.8/site-packages/ursina/window.py:58\u001b[0m, in \u001b[0;36mWindow.__init__\u001b[0;34m(self)\u001b[0m\n\u001b[1;32m     56\u001b[0m         \u001b[38;5;28mself\u001b[39m\u001b[38;5;241m.\u001b[39mscreen_resolution \u001b[38;5;241m=\u001b[39m [size\u001b[38;5;241m.\u001b[39mwidth, size\u001b[38;5;241m.\u001b[39mheight]\n\u001b[1;32m     57\u001b[0m \u001b[38;5;28;01mexcept\u001b[39;00m:\n\u001b[0;32m---> 58\u001b[0m     \u001b[38;5;28;01mfrom\u001b[39;00m \u001b[38;5;21;01mscreeninfo\u001b[39;00m \u001b[38;5;28;01mimport\u001b[39;00m get_monitors\n\u001b[1;32m     59\u001b[0m     \u001b[38;5;28mself\u001b[39m\u001b[38;5;241m.\u001b[39mscreen_resolution \u001b[38;5;241m=\u001b[39m [get_monitors()[\u001b[38;5;241m0\u001b[39m]\u001b[38;5;241m.\u001b[39mwidth, get_monitors()[\u001b[38;5;241m0\u001b[39m]\u001b[38;5;241m.\u001b[39mheight]\n\u001b[1;32m     61\u001b[0m \u001b[38;5;28mself\u001b[39m\u001b[38;5;241m.\u001b[39mfullscreen_size \u001b[38;5;241m=\u001b[39m Vec2(\u001b[38;5;241m*\u001b[39m\u001b[38;5;28mself\u001b[39m\u001b[38;5;241m.\u001b[39mscreen_resolution)\n",
      "\u001b[0;31mModuleNotFoundError\u001b[0m: No module named 'screeninfo'"
     ]
    }
   ],
   "source": [
    "from ursina import *\n",
    "import numpy as np\n",
    "from keras.models import load_model\n",
    "\n",
    "app = Ursina()\n",
    "\n",
    "# Load your model\n",
    "model = load_model('/home/jinjinjara1022/OmokAI/models/best.h5')\n",
    "\n",
    "# Define the board and initial settings\n",
    "board = np.zeros((19, 19), dtype=np.int8)\n",
    "grid_size = 19\n",
    "cell_size = 1\n",
    "\n",
    "class OmokGame(Entity):\n",
    "    def __init__(self):\n",
    "        super().__init__()\n",
    "        self.board = np.zeros((19, 19), dtype=np.int8)\n",
    "        self.grid_entities = [[None for _ in range(grid_size)] for _ in range(grid_size)]\n",
    "        self.create_grid()\n",
    "        self.current_player = -1  # Player's turn\n",
    "\n",
    "    def create_grid(self):\n",
    "        for y in range(grid_size):\n",
    "            for x in range(grid_size):\n",
    "                pos = Vec3(x * cell_size, 0, y * cell_size)\n",
    "                self.grid_entities[y][x] = Button(\n",
    "                    parent=self,\n",
    "                    model='quad',\n",
    "                    texture='white_cube',\n",
    "                    color=color.light_gray,\n",
    "                    position=pos,\n",
    "                    scale=(cell_size, cell_size),\n",
    "                    on_click=Func(self.player_turn, x, y)\n",
    "                )\n",
    "\n",
    "    def player_turn(self, x, y):\n",
    "        if self.board[18-y, x] != 0:\n",
    "            return  # Invalid move\n",
    "        self.board[18-y, x] = self.current_player\n",
    "        self.grid_entities[18-y][x].color = color.black if self.current_player == -1 else color.white\n",
    "        if end2(self.board):\n",
    "            print(\"P2 승리\")\n",
    "            return\n",
    "\n",
    "        # AI's turn\n",
    "        self.ai_turn()\n",
    "\n",
    "    def ai_turn(self):\n",
    "        input_ = self.board.copy()\n",
    "        input_ = np.expand_dims(input_, axis=(0, -1)).astype(np.float32)\n",
    "        output = model.predict(input_, verbose=0).squeeze()\n",
    "        output = output.reshape((19, 19))\n",
    "        output_y, output_x = np.unravel_index(np.argmax(output), output.shape)\n",
    "        while self.board[output_y, output_x] != 0:\n",
    "            output[output_y, output_x] = -np.inf\n",
    "            output_y, output_x = np.unravel_index(np.argmax(output), output.shape)\n",
    "        self.board[output_y, output_x] = 1\n",
    "        self.grid_entities[output_y][output_x].color = color.white\n",
    "        if end1(self.board):\n",
    "            print(\"P1 승리\")\n",
    "            return\n",
    "\n",
    "def end1(board):\n",
    "    # Implement your own victory condition check\n",
    "    return False\n",
    "\n",
    "def end2(board):\n",
    "    # Implement your own victory condition check\n",
    "    return False\n",
    "\n",
    "game = OmokGame()\n",
    "app.run()"
   ]
  },
  {
   "cell_type": "code",
   "execution_count": null,
   "id": "f2bdb8eb-5c5e-4f19-9051-495b4068b86b",
   "metadata": {},
   "outputs": [],
   "source": []
  }
 ],
 "metadata": {
  "kernelspec": {
   "display_name": "Python 3 (ipykernel)",
   "language": "python",
   "name": "python3"
  },
  "language_info": {
   "codemirror_mode": {
    "name": "ipython",
    "version": 3
   },
   "file_extension": ".py",
   "mimetype": "text/x-python",
   "name": "python",
   "nbconvert_exporter": "python",
   "pygments_lexer": "ipython3",
   "version": "3.8.19"
  }
 },
 "nbformat": 4,
 "nbformat_minor": 5
}
