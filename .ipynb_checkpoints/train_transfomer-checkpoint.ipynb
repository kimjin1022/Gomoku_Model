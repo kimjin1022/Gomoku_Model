{
 "cells": [
  {
   "cell_type": "code",
   "execution_count": 7,
   "id": "7ae691ef-3744-4fe3-9a66-ec631d811bf3",
   "metadata": {},
   "outputs": [],
   "source": [
    "import warnings\n",
    "warnings.filterwarnings(\"ignore\", category=DeprecationWarning)\n",
    "warnings.filterwarnings(\"ignore\", category=FutureWarning)\n",
    "\n",
    "import tensorflow as tf\n",
    "tf.get_logger().setLevel('ERROR')\n",
    "import tensorflow.keras as keras\n",
    "from tensorflow.keras import layers, models\n",
    "import numpy as np\n",
    "from sklearn.model_selection import train_test_split\n",
    "from glob import glob\n",
    "import os\n",
    "from tqdm import tqdm\n",
    "from datetime import datetime\n",
    "from tensorflow.keras.callbacks import ModelCheckpoint, ReduceLROnPlateau\n",
    "\n",
    "os.environ['TF_CPP_MIN_LOG_LEVEL'] = '0' "
   ]
  },
  {
   "cell_type": "code",
   "execution_count": 9,
   "id": "699134c3-a5b5-4e88-a12d-8e89805b1108",
   "metadata": {},
   "outputs": [
    {
     "name": "stdout",
     "output_type": "stream",
     "text": [
      "Running on multiple GPUs  ['/device:GPU:0', '/device:GPU:1', '/device:GPU:2', '/device:GPU:3']\n"
     ]
    }
   ],
   "source": [
    "gpus = tf.config.experimental.list_logical_devices('GPU')\n",
    "strategy = tf.distribute.MirroredStrategy([gpu.name for gpu in gpus])\n",
    "print('Running on multiple GPUs ', [gpu.name for gpu in gpus])"
   ]
  },
  {
   "cell_type": "code",
   "execution_count": 10,
   "id": "645e6e85-c949-4e05-a13a-de5c0e6df06c",
   "metadata": {},
   "outputs": [
    {
     "name": "stderr",
     "output_type": "stream",
     "text": [
      "100%|████████████████████████████████████| 10797/10797 [00:22<00:00, 477.56it/s]\n"
     ]
    },
    {
     "name": "stdout",
     "output_type": "stream",
     "text": [
      "(4146931, 19, 19, 1) (4146931, 361)\n",
      "(1036733, 19, 19, 1) (1036733, 361)\n"
     ]
    }
   ],
   "source": [
    "with strategy.scope():\n",
    "    w, h = 19, 19\n",
    "    base_path = os.path.join('dataset', '*/*.npz')\n",
    "    \n",
    "    file_list = glob(base_path)\n",
    "    \n",
    "    x_data, y_data = [], []\n",
    "    for file_path in tqdm(file_list):\n",
    "        data = np.load(file_path)\n",
    "        x_data.extend(data['inputs'])\n",
    "        y_data.extend(data['outputs'])\n",
    "    \n",
    "    x_data = np.array(x_data, np.float32).reshape((-1, h, w, 1))\n",
    "    y_data = np.array(y_data, np.float32).reshape((-1, h * w))\n",
    "    \n",
    "    x_train, x_val, y_train, y_val = train_test_split(x_data, y_data, test_size=0.2, random_state=2020)\n",
    "    \n",
    "    del x_data, y_data\n",
    "    \n",
    "    print(x_train.shape, y_train.shape)\n",
    "    print(x_val.shape, y_val.shape)"
   ]
  },
  {
   "cell_type": "code",
   "execution_count": 14,
   "id": "f9dc170a-f234-42f1-bead-bfb7468978b7",
   "metadata": {},
   "outputs": [
    {
     "name": "stdout",
     "output_type": "stream",
     "text": [
      "Model: \"sequential_1\"\n",
      "_________________________________________________________________\n",
      " Layer (type)                Output Shape              Param #   \n",
      "=================================================================\n",
      " conv2d_18 (Conv2D)          (None, 19, 19, 64)        3200      \n",
      "                                                                 \n",
      " conv2d_19 (Conv2D)          (None, 19, 19, 128)       204928    \n",
      "                                                                 \n",
      " conv2d_20 (Conv2D)          (None, 19, 19, 256)       295168    \n",
      "                                                                 \n",
      " conv2d_21 (Conv2D)          (None, 19, 19, 128)       819328    \n",
      "                                                                 \n",
      " conv2d_22 (Conv2D)          (None, 19, 19, 64)        401472    \n",
      "                                                                 \n",
      " conv2d_23 (Conv2D)          (None, 19, 19, 1)         65        \n",
      "                                                                 \n",
      " reshape_1 (Reshape)         (None, 361)               0         \n",
      "                                                                 \n",
      " activation (Activation)     (None, 361)               0         \n",
      "                                                                 \n",
      "=================================================================\n",
      "Total params: 1,724,161\n",
      "Trainable params: 1,724,161\n",
      "Non-trainable params: 0\n",
      "_________________________________________________________________\n"
     ]
    }
   ],
   "source": [
    "with strategy.scope():\n",
    "    model = models.Sequential([\n",
    "        layers.Conv2D(64, 7, activation='relu', padding='same', input_shape=(19, 19, 1)),\n",
    "        layers.Conv2D(128, 5, activation='relu', padding='same'),\n",
    "        layers.Conv2D(256, 3, activation='relu', padding='same'),\n",
    "        layers.Conv2D(128, 5, activation='relu', padding='same'),\n",
    "        layers.Conv2D(64, 7, activation='relu', padding='same'),\n",
    "        layers.Conv2D(1, 1, activation=None, padding='same'),\n",
    "        layers.Reshape((19*19,)),\n",
    "        layers.Activation('sigmoid')      \n",
    "    ])\n",
    "    \n",
    "    model.compile(\n",
    "        optimizer='adam',\n",
    "        loss='binary_crossentropy',\n",
    "        metrics=['acc']\n",
    "    )\n",
    "    \n",
    "    model.summary()"
   ]
  },
  {
   "cell_type": "code",
   "execution_count": 15,
   "id": "e8a050af-6fb3-4eb3-aab8-e9345174e8d4",
   "metadata": {},
   "outputs": [
    {
     "name": "stdout",
     "output_type": "stream",
     "text": [
      "Epoch 1/10\n"
     ]
    },
    {
     "name": "stderr",
     "output_type": "stream",
     "text": [
      "2024-05-29 16:16:23.509681: W tensorflow/compiler/xla/stream_executor/gpu/asm_compiler.cc:115] *** WARNING *** You are using ptxas 10.1.243, which is older than 11.1. ptxas before 11.1 is known to miscompile XLA code, leading to incorrect results or invalid-address errors.\n",
      "\n",
      "You may not need to update to CUDA 11.1; cherry-picking the ptxas binary is often sufficient.\n",
      "2024-05-29 16:16:23.511847: W tensorflow/compiler/xla/stream_executor/gpu/asm_compiler.cc:115] *** WARNING *** You are using ptxas 10.1.243, which is older than 11.1. ptxas before 11.1 is known to miscompile XLA code, leading to incorrect results or invalid-address errors.\n",
      "\n",
      "You may not need to update to CUDA 11.1; cherry-picking the ptxas binary is often sufficient.\n"
     ]
    },
    {
     "name": "stdout",
     "output_type": "stream",
     "text": [
      "16199/16199 [==============================] - ETA: 0s - loss: 0.0076 - acc: 0.5176\n",
      "Epoch 1: val_acc improved from -inf to 0.57828, saving model to ./models/20240529_161603.h5\n",
      "16199/16199 [==============================] - 438s 27ms/step - loss: 0.0076 - acc: 0.5176 - val_loss: 0.0061 - val_acc: 0.5783 - lr: 0.0010\n",
      "Epoch 2/10\n",
      "16199/16199 [==============================] - ETA: 0s - loss: 0.0059 - acc: 0.5888\n",
      "Epoch 2: val_acc improved from 0.57828 to 0.59328, saving model to ./models/20240529_161603.h5\n",
      "16199/16199 [==============================] - 425s 26ms/step - loss: 0.0059 - acc: 0.5888 - val_loss: 0.0058 - val_acc: 0.5933 - lr: 0.0010\n",
      "Epoch 3/10\n",
      "16198/16199 [============================>.] - ETA: 0s - loss: 0.0057 - acc: 0.6015\n",
      "Epoch 3: val_acc improved from 0.59328 to 0.60133, saving model to ./models/20240529_161603.h5\n",
      "16199/16199 [==============================] - 426s 26ms/step - loss: 0.0057 - acc: 0.6015 - val_loss: 0.0057 - val_acc: 0.6013 - lr: 0.0010\n",
      "Epoch 4/10\n",
      " 7067/16199 [============>.................] - ETA: 3:36 - loss: 0.0056 - acc: 0.6108"
     ]
    },
    {
     "name": "stderr",
     "output_type": "stream",
     "text": [
      "\n",
      "KeyboardInterrupt\n",
      "\n"
     ]
    }
   ],
   "source": [
    "with strategy.scope():\n",
    "    start_time = datetime.now().strftime('%Y%m%d_%H%M%S')\n",
    "    os.makedirs('models', exist_ok=True)\n",
    "    \n",
    "    model.fit(\n",
    "        x=x_train,\n",
    "        y=y_train,\n",
    "        batch_size=256,\n",
    "        epochs=10,\n",
    "        callbacks=[\n",
    "            ModelCheckpoint('./models/%s.h5' % (start_time), monitor='val_acc', verbose=1, save_best_only=True, mode='auto'),\n",
    "            ReduceLROnPlateau(monitor='val_acc', factor=0.2, patience=5, verbose=1, mode='auto')\n",
    "        ],\n",
    "        validation_data=(x_val, y_val),\n",
    "        use_multiprocessing=True,\n",
    "        workers=16\n",
    "    )"
   ]
  },
  {
   "cell_type": "code",
   "execution_count": null,
   "id": "b82cd98a-c3ab-41ff-8375-c89f1cf43cf4",
   "metadata": {},
   "outputs": [],
   "source": []
  }
 ],
 "metadata": {
  "kernelspec": {
   "display_name": "Python 3 (ipykernel)",
   "language": "python",
   "name": "python3"
  },
  "language_info": {
   "codemirror_mode": {
    "name": "ipython",
    "version": 3
   },
   "file_extension": ".py",
   "mimetype": "text/x-python",
   "name": "python",
   "nbconvert_exporter": "python",
   "pygments_lexer": "ipython3",
   "version": "3.8.19"
  }
 },
 "nbformat": 4,
 "nbformat_minor": 5
}
