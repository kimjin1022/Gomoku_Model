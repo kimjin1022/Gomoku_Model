{
 "cells": [
  {
   "cell_type": "code",
   "execution_count": 1,
   "id": "c2e4bfdf-75b3-4c21-ab15-3eaf11992cd7",
   "metadata": {
    "scrolled": true
   },
   "outputs": [
    {
     "name": "stderr",
     "output_type": "stream",
     "text": [
      "2024-05-30 17:51:47.076350: I tensorflow/core/platform/cpu_feature_guard.cc:193] This TensorFlow binary is optimized with oneAPI Deep Neural Network Library (oneDNN) to use the following CPU instructions in performance-critical operations:  SSE4.1 SSE4.2 AVX AVX2 AVX512F AVX512_VNNI FMA\n",
      "To enable them in other operations, rebuild TensorFlow with the appropriate compiler flags.\n",
      "2024-05-30 17:51:47.167890: I tensorflow/core/util/port.cc:104] oneDNN custom operations are on. You may see slightly different numerical results due to floating-point round-off errors from different computation orders. To turn them off, set the environment variable `TF_ENABLE_ONEDNN_OPTS=0`.\n"
     ]
    }
   ],
   "source": [
    "import numpy as np\n",
    "from tensorflow.keras.models import load_model\n",
    "import tensorflow as tf\n",
    "import os\n",
    "os.environ['TF_CPP_MIN_LOG_LEVEL'] = '2'"
   ]
  },
  {
   "cell_type": "code",
   "execution_count": 2,
   "id": "57488bb0-652d-4359-a30d-0c326c69120e",
   "metadata": {},
   "outputs": [],
   "source": [
    "def end1(board):\n",
    "    # 보드의 가로, 세로, 대각선을 모두 확인하여 종료 조건을 확인\n",
    "    for i in range(19):\n",
    "        for j in range(19):\n",
    "            # 가로 확인\n",
    "            if j + 5 <= 19:\n",
    "                if np.all(board[i, j:j+5] == 1):\n",
    "                    print('END')\n",
    "                    return True\n",
    "            # 세로 확인\n",
    "            if i + 5 <= 19:\n",
    "                if np.all(board[i:i+5, j] == 1):\n",
    "                    print('END')\n",
    "                    return True\n",
    "            # 대각선 확인 (오른쪽 아래 방향)\n",
    "            if i + 5 <= 19 and j + 5 <= 19:\n",
    "                if np.all(np.diag(board[i:i+5, j:j+5]) == 1):\n",
    "                    print('END')\n",
    "                    return True\n",
    "            # 대각선 확인 (왼쪽 아래 방향)\n",
    "            if i + 5 <= 19 and j - 5 >= -1:\n",
    "                if np.all(np.diag(np.fliplr(board[i:i+5, j-4:j+1])) == 1):\n",
    "                    print('END')\n",
    "                    return True\n",
    "    return False\n",
    "\n",
    "def end2(board):\n",
    "    # 보드의 가로, 세로, 대각선을 모두 확인하여 종료 조건을 확인\n",
    "    for i in range(19):\n",
    "        for j in range(19):\n",
    "            # 가로 확인\n",
    "            if j + 5 <= 19:\n",
    "                if np.all(board[i, j:j+5] == -1):\n",
    "                    print('END')\n",
    "                    return True\n",
    "            # 세로 확인\n",
    "            if i + 5 <= 19:\n",
    "                if np.all(board[i:i+5, j] == -1):\n",
    "                    print('END')\n",
    "                    return True\n",
    "            # 대각선 확인 (오른쪽 아래 방향)\n",
    "            if i + 5 <= 19 and j + 5 <= 19:\n",
    "                if np.all(np.diag(board[i:i+5, j:j+5]) == -1):\n",
    "                    print('END')\n",
    "                    return True\n",
    "            # 대각선 확인 (왼쪽 아래 방향)\n",
    "            if i + 5 <= 19 and j - 5 >= -1:\n",
    "                if np.all(np.diag(np.fliplr(board[i:i+5, j-4:j+1])) == -1):\n",
    "                    print('END')\n",
    "                    return True\n",
    "    return False\n",
    "\n",
    "def finish(board):\n",
    "    n = 19\n",
    "    def can_place(x, y):\n",
    "        if x < 0 or x >= n or y < 0 or y >= n:\n",
    "            return False\n",
    "        return board[x][y] == 0\n",
    "\n",
    "    for i in range(n):\n",
    "        for j in range(n):\n",
    "            cond1 = cond2 = cond3 = cond4 = False\n",
    "            try:\n",
    "                # 가로로 4개의 돌 확인\n",
    "                if j + 3 < n and all(board[i, j:j+4] == 1):\n",
    "                    if can_place(i, j + 4): return (i, j + 4)\n",
    "                    if can_place(i, j - 1): return (i, j - 1)\n",
    "            except:\n",
    "                pass\n",
    "            try:\n",
    "                # 세로로 4개의 돌 확인\n",
    "                if i + 3 < n and all(board[i:i+4, j] == 1):\n",
    "                    if can_place(i + 4, j): return (i + 4, j)\n",
    "                    if can_place(i - 1, j): return (i - 1, j)\n",
    "            except:\n",
    "                pass\n",
    "            try:\n",
    "                # 왼쪽 위에서 오른쪽 아래로 대각선 4개의 돌 확인\n",
    "                if i + 3 < n and j + 3 < n and all([board[i+k, j+k] == 1 for k in range(4)]):\n",
    "                    if can_place(i + 4, j + 4): return (i + 4, j + 4)\n",
    "                    if can_place(i - 1, j - 1): return (i - 1, j - 1)\n",
    "            except:\n",
    "                pass\n",
    "            try:\n",
    "                # 왼쪽 아래에서 오른쪽 위로 대각선 4개의 돌 확인\n",
    "                if i - 3 >= 0 and j + 3 < n and all([board[i-k, j+k] == 1 for k in range(4)]):\n",
    "                    if can_place(i - 4, j + 4): return (i - 4, j + 4)\n",
    "                    if can_place(i + 1, j - 1): return (i + 1, j - 1)\n",
    "            except:\n",
    "                pass\n",
    "    return False\n",
    "\n",
    "\n",
    "def print_board(board):\n",
    "    return\n",
    "    for i in board:\n",
    "        print(i)"
   ]
  },
  {
   "cell_type": "code",
   "execution_count": 4,
   "id": "96530691-4f09-49d3-b08c-b5408c36162c",
   "metadata": {},
   "outputs": [
    {
     "name": "stderr",
     "output_type": "stream",
     "text": [
      "2024-05-30 17:53:47.062866: I tensorflow/core/common_runtime/gpu/gpu_device.cc:1613] Created device /job:localhost/replica:0/task:0/device:GPU:0 with 5858 MB memory:  -> device: 0, name: Quadro RTX 5000, pci bus id: 0000:3b:00.0, compute capability: 7.5\n",
      "2024-05-30 17:53:47.063975: I tensorflow/core/common_runtime/gpu/gpu_device.cc:1613] Created device /job:localhost/replica:0/task:0/device:GPU:1 with 14578 MB memory:  -> device: 1, name: Quadro RTX 5000, pci bus id: 0000:5e:00.0, compute capability: 7.5\n",
      "2024-05-30 17:53:47.064935: I tensorflow/core/common_runtime/gpu/gpu_device.cc:1613] Created device /job:localhost/replica:0/task:0/device:GPU:2 with 14578 MB memory:  -> device: 2, name: Quadro RTX 5000, pci bus id: 0000:86:00.0, compute capability: 7.5\n",
      "2024-05-30 17:53:47.065920: I tensorflow/core/common_runtime/gpu/gpu_device.cc:1613] Created device /job:localhost/replica:0/task:0/device:GPU:3 with 14578 MB memory:  -> device: 3, name: Quadro RTX 5000, pci bus id: 0000:af:00.0, compute capability: 7.5\n"
     ]
    },
    {
     "name": "stdout",
     "output_type": "stream",
     "text": [
      "==================================================\n",
      "\n"
     ]
    },
    {
     "name": "stdin",
     "output_type": "stream",
     "text": [
      "선공인가요?(Y/N) 첫번째 착수 위치를 알려주세요. Y 10 J\n"
     ]
    },
    {
     "name": "stdout",
     "output_type": "stream",
     "text": [
      "\n",
      "==================================================\n",
      "\n"
     ]
    },
    {
     "name": "stdin",
     "output_type": "stream",
     "text": [
      "상대방이 착수 한 곳을 입력해 주세요 2 A\n"
     ]
    },
    {
     "name": "stdout",
     "output_type": "stream",
     "text": [
      "\n",
      "==================================================\n",
      "\n",
      "내가 착수한 위치 : 9행 L열\n",
      "\n",
      "==================================================\n",
      "\n"
     ]
    },
    {
     "name": "stdin",
     "output_type": "stream",
     "text": [
      "상대방이 착수 한 곳을 입력해 주세요 19 A\n"
     ]
    },
    {
     "name": "stdout",
     "output_type": "stream",
     "text": [
      "\n",
      "==================================================\n",
      "\n",
      "내가 착수한 위치 : 11행 K열\n",
      "\n",
      "==================================================\n",
      "\n"
     ]
    },
    {
     "name": "stdin",
     "output_type": "stream",
     "text": [
      "상대방이 착수 한 곳을 입력해 주세요 19 F\n"
     ]
    },
    {
     "name": "stdout",
     "output_type": "stream",
     "text": [
      "\n",
      "==================================================\n",
      "\n",
      "내가 착수한 위치 : 9행 I열\n",
      "\n",
      "==================================================\n",
      "\n"
     ]
    },
    {
     "name": "stdin",
     "output_type": "stream",
     "text": [
      "상대방이 착수 한 곳을 입력해 주세요 19 K\n"
     ]
    },
    {
     "name": "stdout",
     "output_type": "stream",
     "text": [
      "\n",
      "==================================================\n",
      "\n",
      "내가 착수한 위치 : 12행 L열\n",
      "\n",
      "==================================================\n",
      "\n"
     ]
    },
    {
     "name": "stdin",
     "output_type": "stream",
     "text": [
      "상대방이 착수 한 곳을 입력해 주세요 1 K\n"
     ]
    },
    {
     "name": "stdout",
     "output_type": "stream",
     "text": [
      "(6, 12)\n"
     ]
    }
   ],
   "source": [
    "with tf.device('/CPU:0'):\n",
    "    print('=' * 50)\n",
    "    print()\n",
    "    model = load_model('/home/jinjinjara1022/OmokAI/models/best.h5')\n",
    "    board = np.zeros((19, 19), dtype=np.int8)\n",
    "    first_turn, location_r, location_c = list(input('선공인가요?(Y/N) 첫번째 착수 위치를 알려주세요.').split())\n",
    "    print()\n",
    "    print('=' * 50)\n",
    "    if first_turn == 'Y':\n",
    "        board[19 - int(location_r), ord(location_c)-65] = 1\n",
    "    else:\n",
    "        board[19 - int(location_r), ord(location_c)-65] = -1\n",
    "    \n",
    "    print_board(board)\n",
    "    \n",
    "    if first_turn != 'Y':\n",
    "        input_ = board.copy()\n",
    "        input_ = np.expand_dims(input_, axis=(0, -1)).astype(np.float32)\n",
    "        output = model.predict(input_, verbose=0).squeeze()\n",
    "        output = output.reshape((19, 19))\n",
    "        output_y, output_x = np.unravel_index(np.argmax(output), output.shape)\n",
    "        if board[output_y, output_x] == 0:\n",
    "            board[output_y, output_x] = 1\n",
    "        else:\n",
    "            while True:\n",
    "                output[output_y, output_x] = -np.inf\n",
    "                output_y, output_x = np.unravel_index(np.argmax(output), output.shape)\n",
    "                if board[output_y, output_x] == 0:\n",
    "                    board[output_y, output_x] = 1\n",
    "                    break\n",
    "        print_board(board)\n",
    "        print()\n",
    "        print(f\"착수한 위치 : {19-output_y}행 {chr(output_x + 65)}열\")\n",
    "        print()\n",
    "        print('=' * 50)\n",
    "    \n",
    "    while True:\n",
    "        if end1(board):\n",
    "            print('P1 승리')\n",
    "            break\n",
    "        if end2(board):\n",
    "            print('P2 승리')\n",
    "            break\n",
    "            \n",
    "        print()\n",
    "        location_r, location_c = list(input(\"상대방이 착수 한 곳을 입력해 주세요\").split())\n",
    "        if board[19-int(location_r), ord(location_c)-65] != 0:\n",
    "            print(\"해당 위치는 이미 착수 되었습니다.\")\n",
    "            continue\n",
    "        board[19-int(location_r), ord(location_c)-65] = -1\n",
    "\n",
    "        if finish(board):\n",
    "            print(finish(board))\n",
    "            break\n",
    "        \n",
    "        input_ = board.copy()\n",
    "        input_ = np.expand_dims(input_, axis=(0, -1)).astype(np.float32)\n",
    "        output = model.predict(input_, verbose=0).squeeze()\n",
    "        output = output.reshape((19, 19))\n",
    "        output_y, output_x = np.unravel_index(np.argmax(output), output.shape)\n",
    "        if board[output_y, output_x] == 0:\n",
    "            board[output_y, output_x] = 1\n",
    "        else:\n",
    "            while True:\n",
    "                output[output_y, output_x] = -np.inf\n",
    "                output_y, output_x = np.unravel_index(np.argmax(output), output.shape)\n",
    "                if board[output_y, output_x] == 0:\n",
    "                    board[output_y, output_x] = 1\n",
    "                    break\n",
    "        print()\n",
    "        print('=' * 50)\n",
    "        print()\n",
    "        print(f\"내가 착수한 위치 : {19-output_y}행 {chr(output_x + 65)}열\")\n",
    "        print()\n",
    "        print('=' * 50)\n",
    "        print_board(board)"
   ]
  },
  {
   "cell_type": "code",
   "execution_count": null,
   "id": "f2bdb8eb-5c5e-4f19-9051-495b4068b86b",
   "metadata": {},
   "outputs": [],
   "source": []
  }
 ],
 "metadata": {
  "kernelspec": {
   "display_name": "Python 3 (ipykernel)",
   "language": "python",
   "name": "python3"
  },
  "language_info": {
   "codemirror_mode": {
    "name": "ipython",
    "version": 3
   },
   "file_extension": ".py",
   "mimetype": "text/x-python",
   "name": "python",
   "nbconvert_exporter": "python",
   "pygments_lexer": "ipython3",
   "version": "3.8.19"
  }
 },
 "nbformat": 4,
 "nbformat_minor": 5
}
